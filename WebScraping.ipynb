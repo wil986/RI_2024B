{
  "nbformat": 4,
  "nbformat_minor": 0,
  "metadata": {
    "colab": {
      "provenance": []
    },
    "kernelspec": {
      "name": "python3",
      "display_name": "Python 3"
    },
    "language_info": {
      "name": "python"
    }
  },
  "cells": [
    {
      "cell_type": "code",
      "source": [
        "import requests\n",
        "from bs4 import BeautifulSoup\n",
        "import pandas as pd\n",
        "\n",
        "# URL principal del sitio web\n",
        "base_url = \"https://www.allrecipes.com/\""
      ],
      "metadata": {
        "id": "bkuNtyZRnuQl"
      },
      "execution_count": 3,
      "outputs": []
    },
    {
      "cell_type": "code",
      "source": [
        "# Función para extraer las categorías disponibles\n",
        "def fetch_categories(base_url):\n",
        "    headers = {\n",
        "        \"User-Agent\": \"Mozilla/5.0 (Windows NT 10.0; Win64; x64) AppleWebKit/537.36 (KHTML, like Gecko) Chrome/91.0.4472.124 Safari/537.36\"\n",
        "    }\n",
        "    try:\n",
        "        page = requests.get(base_url, headers=headers)\n",
        "        page.raise_for_status()\n",
        "        html_content = BeautifulSoup(page.content, \"html.parser\")\n",
        "        links = html_content.find_all(\"a\", href=True)\n",
        "        category_dict = {\n",
        "            link.text.strip(): link[\"href\"]\n",
        "            for link in links\n",
        "            if \"/recipes/\" in link[\"href\"] and link.text.strip()\n",
        "        }\n",
        "        return category_dict\n",
        "    except requests.exceptions.RequestException as error:\n",
        "        print(f\"Error al acceder a {base_url}: {error}\")\n",
        "        return {}\n",
        "\n",
        "# Función para extraer recetas de una categoría\n",
        "def fetch_recipes(category_link):\n",
        "    headers = {\n",
        "        \"User-Agent\": \"Mozilla/5.0 (Windows NT 10.0; Win64; x64) AppleWebKit/537.36 (KHTML, like Gecko) Chrome/91.0.4472.124 Safari/537.36\"\n",
        "    }\n",
        "    try:\n",
        "        response = requests.get(category_link, headers=headers)\n",
        "        response.raise_for_status()\n",
        "        html_content = BeautifulSoup(response.content, \"html.parser\")\n",
        "        recipe_elements = html_content.find_all(\"a\", href=True)\n",
        "        recipe_urls = list(set(\n",
        "            element[\"href\"]\n",
        "            for element in recipe_elements\n",
        "            if \"/recipe/\" in element[\"href\"]\n",
        "        ))\n",
        "        return recipe_urls\n",
        "    except requests.exceptions.RequestException as error:\n",
        "        print(f\"Error al procesar {category_link}: {error}\")\n",
        "        return []"
      ],
      "metadata": {
        "id": "2w1HT2Zwnl4x"
      },
      "execution_count": 4,
      "outputs": []
    },
    {
      "cell_type": "code",
      "execution_count": 5,
      "metadata": {
        "colab": {
          "base_uri": "https://localhost:8080/"
        },
        "id": "QCfTRPIPmoMO",
        "outputId": "4e72687b-53c0-4632-cdc5-9760f376b637"
      },
      "outputs": [
        {
          "output_type": "stream",
          "name": "stdout",
          "text": [
            "Analizando categoría: Dinners\n",
            "Analizando categoría: 5-Ingredient Dinners\n",
            "Analizando categoría: One-Pot Meals\n",
            "Analizando categoría: Quick & Easy\n",
            "Analizando categoría: 30-Minute Meals\n",
            "Analizando categoría: Family Dinners\n",
            "Analizando categoría: Soups, Stews & Chili\n",
            "Analizando categoría: Comfort Food\n",
            "Analizando categoría: Main Dishes\n",
            "Analizando categoría: Sheet Pan Dinners\n",
            "Analizando categoría: View All\n",
            "Analizando categoría: Breakfast & Brunch\n",
            "Analizando categoría: Lunch\n",
            "Analizando categoría: Healthy\n",
            "Analizando categoría: Appetizers & Snacks\n",
            "Analizando categoría: Salads\n",
            "Archivo guardado como 'recipes_dataset.csv'.\n"
          ]
        }
      ],
      "source": [
        "# Función para extraer detalles de una receta\n",
        "def extract_recipe_details(recipe_link):\n",
        "    headers = {\n",
        "        \"User-Agent\": \"Mozilla/5.0 (Windows NT 10.0; Win64; x64) AppleWebKit/537.36 (KHTML, like Gecko) Chrome/91.0.4472.124 Safari/537.36\"\n",
        "    }\n",
        "    try:\n",
        "        page = requests.get(recipe_link, headers=headers)\n",
        "        page.raise_for_status()\n",
        "        html_content = BeautifulSoup(page.content, \"html.parser\")\n",
        "\n",
        "        recipe_identifier = recipe_link.split(\"/\")[-2]\n",
        "        title_meta = html_content.find(\"meta\", {\"property\": \"og:title\"})\n",
        "        recipe_title = title_meta[\"content\"] if title_meta else \"Título no disponible\"\n",
        "\n",
        "        ingredient_items = html_content.find_all(\"li\", class_=\"ingredients-item\")\n",
        "        ingredients_list = [ingredient.get_text(strip=True) for ingredient in ingredient_items] if ingredient_items else []\n",
        "\n",
        "        instruction_steps = html_content.find_all(\"li\", class_=\"instructions-section-item\")\n",
        "        instructions_list = [step.get_text(strip=True) for step in instruction_steps] if instruction_steps else []\n",
        "\n",
        "        prep_time_element = html_content.find(\"div\", class_=\"recipe-meta-item-body\")\n",
        "        preparation_time = prep_time_element.get_text(strip=True) if prep_time_element else \"Tiempo no disponible\"\n",
        "\n",
        "        return {\n",
        "            \"recipe_id\": recipe_identifier,\n",
        "            \"title\": recipe_title,\n",
        "            \"ingredients\": ingredients_list,\n",
        "            \"instructions\": instructions_list,\n",
        "            \"prep_time\": preparation_time,\n",
        "            \"source_url\": recipe_link\n",
        "        }\n",
        "    except requests.exceptions.RequestException as error:\n",
        "        print(f\"Error al extraer datos de {recipe_link}: {error}\")\n",
        "        return None\n",
        "\n",
        "# Extraer las categorías desde el sitio\n",
        "category_data = fetch_categories(base_url)\n",
        "\n",
        "# Lista para recopilar información de todas las recetas\n",
        "recipe_collection = []\n",
        "limit_recipes = 500\n",
        "\n",
        "# Recorrer las categorías y obtener recetas\n",
        "for category, category_link in category_data.items():\n",
        "    print(f\"Analizando categoría: {category}\")\n",
        "    recipe_links = fetch_recipes(category_link)\n",
        "\n",
        "    for link in recipe_links:\n",
        "        recipe_info = extract_recipe_details(link)\n",
        "        if recipe_info:\n",
        "            recipe_collection.append(recipe_info)\n",
        "\n",
        "        # Finalizar si se alcanza el límite\n",
        "        if len(recipe_collection) >= limit_recipes:\n",
        "            break\n",
        "    if len(recipe_collection) >= limit_recipes:\n",
        "        break\n",
        "\n",
        "# Crear un DataFrame y exportarlo a CSV\n",
        "recipes_df = pd.DataFrame(recipe_collection)\n",
        "recipes_df.to_csv(\"recipes_dataset.csv\", index=False, encoding=\"utf-8\")\n",
        "print(\"Archivo guardado como 'recipes_dataset.csv'.\")\n"
      ]
    },
    {
      "cell_type": "code",
      "source": [
        "# Función para construir un corpus de recetas\n",
        "def generate_recipe_corpus(category_data, recipe_limit=500):\n",
        "    unique_recipes = set()\n",
        "    recipe_list = []\n",
        "    recipe_counter = 1\n",
        "\n",
        "    for cat_name, cat_link in category_data.items():\n",
        "        print(f\"Procesando recetas de la categoría: {cat_name}\")\n",
        "        recipe_urls = fetch_recipes(cat_link)\n",
        "\n",
        "        for url in recipe_urls:\n",
        "            if len(unique_recipes) >= recipe_limit:\n",
        "                break\n",
        "            if url not in unique_recipes:\n",
        "                unique_recipes.add(url)\n",
        "\n",
        "                # Obtener el nombre de la receta desde la URL\n",
        "                recipe_title = url.split(\"/\")[-2].replace(\"-\", \" \").capitalize()\n",
        "                if not recipe_title:\n",
        "                    recipe_title = \"Receta desconocida\"\n",
        "\n",
        "                # Agregar detalles de la receta al corpus\n",
        "                recipe_list.append({\n",
        "                    \"recipe_id\": recipe_counter,\n",
        "                    \"title\": recipe_title,\n",
        "                    \"link\": url\n",
        "                })\n",
        "                recipe_counter += 1\n",
        "\n",
        "        if len(unique_recipes) >= recipe_limit:\n",
        "            break\n",
        "\n",
        "    return recipe_list\n",
        "\n",
        "# Ejecución del script\n",
        "if __name__ == \"__main__\":\n",
        "    print(\"Extrayendo categorías del sitio web...\")\n",
        "    category_info = fetch_categories(base_url)\n",
        "\n",
        "    if category_info:\n",
        "        print(f\"Total de categorías encontradas: {len(category_info)}\")\n",
        "        for cat, link in category_info.items():\n",
        "            print(f\"{cat}: {link}\")\n",
        "\n",
        "        print(\"\\nIniciando la construcción del corpus de recetas...\")\n",
        "        recipe_corpus = generate_recipe_corpus(category_info)\n",
        "        print(f\"\\nNúmero total de recetas en el corpus: {len(recipe_corpus)}\")\n",
        "\n",
        "        # Ejemplo: Mostrar las primeras 10 recetas\n",
        "        for recipe in recipe_corpus[:10]:\n",
        "            print(f\"ID: {recipe['recipe_id']}, Título: {recipe['title']}, Enlace: {recipe['link']}\")\n",
        "    else:\n",
        "        print(\"No se pudieron obtener categorías del sitio web.\")\n"
      ],
      "metadata": {
        "colab": {
          "base_uri": "https://localhost:8080/"
        },
        "id": "vy6wcSSFozK1",
        "outputId": "70c4ce87-f45c-428f-951b-23b0ff68f032"
      },
      "execution_count": 6,
      "outputs": [
        {
          "output_type": "stream",
          "name": "stdout",
          "text": [
            "Extrayendo categorías del sitio web...\n",
            "Total de categorías encontradas: 56\n",
            "Dinners: https://www.allrecipes.com/recipes/17562/dinner/\n",
            "5-Ingredient Dinners: https://www.allrecipes.com/recipes/17057/everyday-cooking/more-meal-ideas/5-ingredients/main-dishes/\n",
            "One-Pot Meals: https://www.allrecipes.com/recipes/15436/everyday-cooking/one-pot-meals/\n",
            "Quick & Easy: https://www.allrecipes.com/recipes/1947/everyday-cooking/quick-and-easy/\n",
            "30-Minute Meals: https://www.allrecipes.com/recipes/455/everyday-cooking/more-meal-ideas/30-minute-meals/\n",
            "Family Dinners: https://www.allrecipes.com/recipes/17889/everyday-cooking/family-friendly/family-dinners/\n",
            "Soups, Stews & Chili: https://www.allrecipes.com/recipes/94/soups-stews-and-chili/\n",
            "Comfort Food: https://www.allrecipes.com/recipes/16099/everyday-cooking/comfort-food/\n",
            "Main Dishes: https://www.allrecipes.com/recipes/80/main-dish/\n",
            "Sheet Pan Dinners: https://www.allrecipes.com/recipes/22992/everyday-cooking/sheet-pan-dinners/\n",
            "View All: https://www.allrecipes.com/recipes/85/holidays-and-events/\n",
            "Breakfast & Brunch: https://www.allrecipes.com/recipes/78/breakfast-and-brunch/\n",
            "Lunch: https://www.allrecipes.com/recipes/17561/lunch/\n",
            "Healthy: https://www.allrecipes.com/recipes/84/healthy-recipes/\n",
            "Appetizers & Snacks: https://www.allrecipes.com/recipes/76/appetizers-and-snacks/\n",
            "Salads: https://www.allrecipes.com/recipes/96/salad/\n",
            "Side Dishes: https://www.allrecipes.com/recipes/81/side-dish/\n",
            "Soups: https://www.allrecipes.com/recipes/16369/soups-stews-and-chili/soup/\n",
            "Bread: https://www.allrecipes.com/recipes/156/bread/\n",
            "Drinks: https://www.allrecipes.com/recipes/77/drinks/\n",
            "Desserts: https://www.allrecipes.com/recipes/79/desserts/\n",
            "Chicken: https://www.allrecipes.com/recipes/201/meat-and-poultry/chicken/\n",
            "Beef: https://www.allrecipes.com/recipes/200/meat-and-poultry/beef/\n",
            "Pork: https://www.allrecipes.com/recipes/205/meat-and-poultry/pork/\n",
            "Seafood: https://www.allrecipes.com/recipes/93/seafood/\n",
            "Pasta: https://www.allrecipes.com/recipes/95/pasta-and-noodles/\n",
            "Fruits: https://www.allrecipes.com/recipes/1058/fruits-and-vegetables/fruits/\n",
            "Vegetables: https://www.allrecipes.com/recipes/1059/fruits-and-vegetables/vegetables/\n",
            "Occasions: https://www.allrecipes.com/recipes/85/holidays-and-events/\n",
            "Lunar New Year: https://www.allrecipes.com/recipes/17668/holidays-and-events/lunar-new-year/\n",
            "Recipes for the Super Bowl: https://www.allrecipes.com/recipes/1419/holidays-and-events/big-game/\n",
            "Valentine's Day: https://www.allrecipes.com/recipes/199/holidays-and-events/valentines-day/\n",
            "Mardi Gras: https://www.allrecipes.com/recipes/192/holidays-and-events/mardi-gras/\n",
            "Mexican: https://www.allrecipes.com/recipes/728/world-cuisine/latin-american/mexican/\n",
            "Italian: https://www.allrecipes.com/recipes/723/world-cuisine/european/italian/\n",
            "Chinese: https://www.allrecipes.com/recipes/695/world-cuisine/asian/chinese/\n",
            "Indian: https://www.allrecipes.com/recipes/233/world-cuisine/asian/indian/\n",
            "German: https://www.allrecipes.com/recipes/722/world-cuisine/european/german/\n",
            "Greek: https://www.allrecipes.com/recipes/731/world-cuisine/european/greek/\n",
            "Filipino: https://www.allrecipes.com/recipes/696/world-cuisine/asian/filipino/\n",
            "Japanese: https://www.allrecipes.com/recipes/699/world-cuisine/asian/japanese/\n",
            "Instant Pot: https://www.allrecipes.com/recipes/22882/everyday-cooking/instant-pot/\n",
            "Air Fryer: https://www.allrecipes.com/recipes/23070/everyday-cooking/cookware-and-equipment/air-fryer/\n",
            "Slow Cooker: https://www.allrecipes.com/recipes/253/everyday-cooking/slow-cooker/\n",
            "BBQ & Grilling: https://www.allrecipes.com/recipes/88/bbq-grilling/\n",
            "Cooking by Equipment: https://www.allrecipes.com/recipes/17583/everyday-cooking/cookware-and-equipment/\n",
            "Features: https://www.allrecipes.com/recipes/1642/everyday-cooking/\n",
            "Skillet Suppers: https://www.allrecipes.com/recipes/15436/everyday-cooking/one-pot-meals/\n",
            "Winter Menu Ideas: https://www.allrecipes.com/recipes/632/everyday-cooking/seasonal/winter/\n",
            "Football-Watching Food: https://www.allrecipes.com/recipes/1419/holidays-and-events/big-game/\n",
            "Jalapeno Poppers: https://www.allrecipes.com/recipes/1241/appetizers-and-snacks/vegetable/jalapeno-poppers/\n",
            "Popular Recipes: https://www.allrecipes.com/recipes/\n",
            "Hello, Sunshine: https://www.allrecipes.com/recipes/1105/fruits-and-vegetables/fruits/citrus/\n",
            "Meals: https://www.allrecipes.com/recipes/\n",
            "Ingredients: https://www.allrecipes.com/recipes/17567/ingredients/\n",
            "Cuisines: https://www.allrecipes.com/recipes/86/world-cuisine/\n",
            "\n",
            "Iniciando la construcción del corpus de recetas...\n",
            "Procesando recetas de la categoría: Dinners\n",
            "Procesando recetas de la categoría: 5-Ingredient Dinners\n",
            "Procesando recetas de la categoría: One-Pot Meals\n",
            "Procesando recetas de la categoría: Quick & Easy\n",
            "Procesando recetas de la categoría: 30-Minute Meals\n",
            "Procesando recetas de la categoría: Family Dinners\n",
            "Procesando recetas de la categoría: Soups, Stews & Chili\n",
            "Procesando recetas de la categoría: Comfort Food\n",
            "Procesando recetas de la categoría: Main Dishes\n",
            "Procesando recetas de la categoría: Sheet Pan Dinners\n",
            "Procesando recetas de la categoría: View All\n",
            "Procesando recetas de la categoría: Breakfast & Brunch\n",
            "Procesando recetas de la categoría: Lunch\n",
            "Procesando recetas de la categoría: Healthy\n",
            "Procesando recetas de la categoría: Appetizers & Snacks\n",
            "Procesando recetas de la categoría: Salads\n",
            "Procesando recetas de la categoría: Side Dishes\n",
            "Procesando recetas de la categoría: Soups\n",
            "Procesando recetas de la categoría: Bread\n",
            "Procesando recetas de la categoría: Drinks\n",
            "Procesando recetas de la categoría: Desserts\n",
            "Procesando recetas de la categoría: Chicken\n",
            "Procesando recetas de la categoría: Beef\n",
            "Procesando recetas de la categoría: Pork\n",
            "Procesando recetas de la categoría: Seafood\n",
            "Procesando recetas de la categoría: Pasta\n",
            "Procesando recetas de la categoría: Fruits\n",
            "Procesando recetas de la categoría: Vegetables\n",
            "Procesando recetas de la categoría: Occasions\n",
            "Procesando recetas de la categoría: Lunar New Year\n",
            "\n",
            "Número total de recetas en el corpus: 500\n",
            "ID: 1, Título: Easy meatloaf, Enlace: https://www.allrecipes.com/recipe/16354/easy-meatloaf/\n",
            "ID: 2, Título: Corned beef and cabbage i, Enlace: https://www.allrecipes.com/recipe/16310/corned-beef-and-cabbage-i/\n",
            "ID: 3, Título: Simple macaroni and cheese, Enlace: https://www.allrecipes.com/recipe/238691/simple-macaroni-and-cheese/\n",
            "ID: 4, Título: Salisbury steak, Enlace: https://www.allrecipes.com/recipe/14595/salisbury-steak/\n",
            "ID: 5, Título: Turkey in a smoker, Enlace: https://www.allrecipes.com/recipe/16984/turkey-in-a-smoker/\n",
            "ID: 6, Título: Worlds best lasagna, Enlace: https://www.allrecipes.com/recipe/23600/worlds-best-lasagna/\n",
            "ID: 7, Título: Mississippi chicken, Enlace: https://www.allrecipes.com/recipe/8508920/mississippi-chicken/\n",
            "ID: 8, Título: Chicken pot pie ix, Enlace: https://www.allrecipes.com/recipe/26317/chicken-pot-pie-ix/\n",
            "ID: 9, Título: Dumplings, Enlace: https://www.allrecipes.com/recipe/6900/dumplings/\n",
            "ID: 10, Título: Sloppy joes ii, Enlace: https://www.allrecipes.com/recipe/24264/sloppy-joes-ii/\n"
          ]
        }
      ]
    },
    {
      "cell_type": "code",
      "source": [
        "import csv\n",
        "\n",
        "# Función para exportar las recetas a un archivo CSV\n",
        "def export_recipes_to_csv(recipe_data, output_file=\"recipes_dataset.csv\"):\n",
        "    try:\n",
        "        with open(output_file, mode='w', newline='', encoding='utf-8') as csvfile:\n",
        "            csv_writer = csv.DictWriter(csvfile, fieldnames=[\"recipe_id\", \"title\", \"link\"])\n",
        "            csv_writer.writeheader()  # Agregar encabezados al archivo CSV\n",
        "            csv_writer.writerows(recipe_data)  # Agregar los datos de las recetas\n",
        "        print(f\"Archivo CSV creado con éxito: {output_file}.\")\n",
        "    except Exception as error:\n",
        "        print(f\"Se produjo un error al intentar guardar el archivo CSV: {error}\")\n",
        "\n",
        "# Guardar los datos del corpus en un archivo CSV\n",
        "export_recipes_to_csv(recipe_corpus)\n"
      ],
      "metadata": {
        "colab": {
          "base_uri": "https://localhost:8080/"
        },
        "id": "BrGfYIPbpgOW",
        "outputId": "2147bda5-47a7-4726-f69c-2fb89e0f1759"
      },
      "execution_count": 8,
      "outputs": [
        {
          "output_type": "stream",
          "name": "stdout",
          "text": [
            "Archivo CSV creado con éxito: recipes_dataset.csv.\n"
          ]
        }
      ]
    },
    {
      "cell_type": "code",
      "source": [
        "# Función para leer recetas desde un archivo CSV\n",
        "def import_recipes_from_csv(csv_file=\"recipes_dataset.csv\"):\n",
        "    try:\n",
        "        recipe_list = []\n",
        "        with open(csv_file, mode='r', encoding='utf-8') as file_handler:\n",
        "            csv_reader = csv.DictReader(file_handler)\n",
        "            for record in csv_reader:\n",
        "                recipe_list.append(record)\n",
        "        print(f\"Se cargaron {len(recipe_list)} recetas desde el archivo {csv_file}.\")\n",
        "        return recipe_list\n",
        "    except Exception as error:\n",
        "        print(f\"Ocurrió un problema al leer el archivo CSV: {error}\")\n",
        "        return []\n",
        "\n",
        "# Leer recetas desde el archivo CSV\n",
        "imported_recipes = import_recipes_from_csv()\n",
        "for rec in imported_recipes[:10]:  # Mostrar las primeras 10 recetas\n",
        "    print(f\"ID: {rec['recipe_id']}, Título: {rec['title']}, Enlace: {rec['link']}\")\n"
      ],
      "metadata": {
        "colab": {
          "base_uri": "https://localhost:8080/"
        },
        "id": "Op_LwCbeqiFm",
        "outputId": "eb4b9933-83c4-4e3a-92d2-184d664f15a1"
      },
      "execution_count": 9,
      "outputs": [
        {
          "output_type": "stream",
          "name": "stdout",
          "text": [
            "Se cargaron 500 recetas desde el archivo recipes_dataset.csv.\n",
            "ID: 1, Título: Easy meatloaf, Enlace: https://www.allrecipes.com/recipe/16354/easy-meatloaf/\n",
            "ID: 2, Título: Corned beef and cabbage i, Enlace: https://www.allrecipes.com/recipe/16310/corned-beef-and-cabbage-i/\n",
            "ID: 3, Título: Simple macaroni and cheese, Enlace: https://www.allrecipes.com/recipe/238691/simple-macaroni-and-cheese/\n",
            "ID: 4, Título: Salisbury steak, Enlace: https://www.allrecipes.com/recipe/14595/salisbury-steak/\n",
            "ID: 5, Título: Turkey in a smoker, Enlace: https://www.allrecipes.com/recipe/16984/turkey-in-a-smoker/\n",
            "ID: 6, Título: Worlds best lasagna, Enlace: https://www.allrecipes.com/recipe/23600/worlds-best-lasagna/\n",
            "ID: 7, Título: Mississippi chicken, Enlace: https://www.allrecipes.com/recipe/8508920/mississippi-chicken/\n",
            "ID: 8, Título: Chicken pot pie ix, Enlace: https://www.allrecipes.com/recipe/26317/chicken-pot-pie-ix/\n",
            "ID: 9, Título: Dumplings, Enlace: https://www.allrecipes.com/recipe/6900/dumplings/\n",
            "ID: 10, Título: Sloppy joes ii, Enlace: https://www.allrecipes.com/recipe/24264/sloppy-joes-ii/\n"
          ]
        }
      ]
    },
    {
      "cell_type": "code",
      "source": [
        "def extract_recipe_details(recipe_link):\n",
        "    try:\n",
        "        response = requests.get(recipe_link, headers=headers)\n",
        "        response.raise_for_status()\n",
        "        page_content = BeautifulSoup(response.content, \"html.parser\")\n",
        "\n",
        "        # Extraer el título de la receta\n",
        "        title = page_content.find(\"h1\", class_=\"headline\").text.strip() if page_content.find(\"h1\", class_=\"headline\") else \"Título no disponible\"\n",
        "\n",
        "        # Extraer la descripción de la receta\n",
        "        recipe_description = page_content.find(\"div\", class_=\"intro\").text.strip() if page_content.find(\"div\", class_=\"intro\") else \"Sin descripción\"\n",
        "\n",
        "        # Extraer los ingredientes\n",
        "        ingredients_list = []\n",
        "        ingredient_elements = page_content.find_all(\"span\", class_=\"ingredients-item-name\")\n",
        "        for item in ingredient_elements:\n",
        "            ingredients_list.append(item.text.strip())\n",
        "\n",
        "        # Extraer las instrucciones\n",
        "        steps_list = []\n",
        "        instruction_elements = page_content.find_all(\"li\", class_=\"subcontainer instructions-section-item\")\n",
        "        for step in instruction_elements:\n",
        "            steps_list.append(step.text.strip())\n",
        "\n",
        "        # Extraer tiempo de preparación\n",
        "        preparation_time = page_content.find(\"span\", class_=\"prepTime__item--time\").text.strip() if page_content.find(\"span\", class_=\"prepTime__item--time\") else \"Tiempo no disponible\"\n",
        "\n",
        "        # Devolver un diccionario con los datos de la receta\n",
        "        return {\n",
        "            \"title\": title,\n",
        "            \"link\": recipe_link,\n",
        "            \"description\": recipe_description,\n",
        "            \"ingredients\": ingredients_list,\n",
        "            \"steps\": steps_list,\n",
        "            \"prep_time\": preparation_time\n",
        "        }\n",
        "\n",
        "    except requests.exceptions.RequestException as error:\n",
        "        print(f\"Error al procesar {recipe_link}: {error}\")\n",
        "        return {}\n"
      ],
      "metadata": {
        "id": "LlIOvIzLquw0"
      },
      "execution_count": 10,
      "outputs": []
    },
    {
      "cell_type": "code",
      "source": [
        "def create_recipe_corpus(category_data, recipe_limit=500):\n",
        "    unique_recipes = set()\n",
        "    corpus_data = []\n",
        "    identifier = 1\n",
        "\n",
        "    for category, category_link in category_data.items():\n",
        "        print(f\"Procesando recetas de la categoría: {category}\")\n",
        "        recipe_links = fetch_recipes(category_link)\n",
        "\n",
        "        for link in recipe_links:\n",
        "            if len(unique_recipes) >= recipe_limit:\n",
        "                break\n",
        "            if link not in unique_recipes:\n",
        "                unique_recipes.add(link)\n",
        "\n",
        "                # Extraer detalles de la receta\n",
        "                details = extract_recipe_details(link)\n",
        "                if details:  # Verificar que los detalles no estén vacíos\n",
        "                    corpus_data.append({\n",
        "                        \"recipe_id\": identifier,\n",
        "                        \"title\": details[\"title\"],\n",
        "                        \"link\": details[\"link\"],\n",
        "                        \"description\": details[\"description\"],\n",
        "                        \"ingredients\": details[\"ingredients\"],\n",
        "                        \"steps\": details[\"steps\"],\n",
        "                        \"prep_time\": details[\"prep_time\"],\n",
        "                        \"category\": category\n",
        "                    })\n",
        "                    identifier += 1\n",
        "\n",
        "        if len(unique_recipes) >= recipe_limit:\n",
        "            break\n",
        "\n",
        "    return corpus_data\n"
      ],
      "metadata": {
        "id": "wORPjc8sq7Js"
      },
      "execution_count": 15,
      "outputs": []
    },
    {
      "cell_type": "code",
      "source": [
        "import csv\n",
        "from google.colab import files\n",
        "\n",
        "def export_complete_recipes_to_csv(data, output_file=\"recipes_full_data.csv\"):\n",
        "    try:\n",
        "        with open(output_file, mode='w', newline='', encoding='utf-8') as csvfile:\n",
        "            headers = [\"recipe_id\", \"title\", \"category\", \"link\", \"description\", \"ingredients\", \"steps\", \"prep_time\"]\n",
        "            csv_writer = csv.DictWriter(csvfile, fieldnames=headers)\n",
        "            csv_writer.writeheader()  # Escribir los encabezados en el archivo CSV\n",
        "\n",
        "            for item in data:\n",
        "                # Convertir listas de ingredientes e instrucciones en cadenas de texto, manejando valores nulos\n",
        "                item[\"ingredients\"] = \", \".join(str(ingredient) for ingredient in item.get(\"ingredients\", []) if ingredient)\n",
        "                item[\"steps\"] = \" | \".join(str(step) for step in item.get(\"steps\", []) if step)\n",
        "                csv_writer.writerow(item)  # Escribir cada registro al archivo\n",
        "        print(f\"Archivo de recetas exportado correctamente a {output_file}.\")\n",
        "    except Exception as error:\n",
        "        print(f\"Se produjo un error al guardar el archivo CSV: {error}\")\n",
        "\n",
        "# Descargar el archivo CSV generado\n",
        "files.download(\"recipes_full_data.csv\")\n"
      ],
      "metadata": {
        "colab": {
          "base_uri": "https://localhost:8080/",
          "height": 17
        },
        "id": "kat5XDumrMus",
        "outputId": "676b6523-1340-4458-9552-be415d145f90"
      },
      "execution_count": 22,
      "outputs": [
        {
          "output_type": "display_data",
          "data": {
            "text/plain": [
              "<IPython.core.display.Javascript object>"
            ],
            "application/javascript": [
              "\n",
              "    async function download(id, filename, size) {\n",
              "      if (!google.colab.kernel.accessAllowed) {\n",
              "        return;\n",
              "      }\n",
              "      const div = document.createElement('div');\n",
              "      const label = document.createElement('label');\n",
              "      label.textContent = `Downloading \"${filename}\": `;\n",
              "      div.appendChild(label);\n",
              "      const progress = document.createElement('progress');\n",
              "      progress.max = size;\n",
              "      div.appendChild(progress);\n",
              "      document.body.appendChild(div);\n",
              "\n",
              "      const buffers = [];\n",
              "      let downloaded = 0;\n",
              "\n",
              "      const channel = await google.colab.kernel.comms.open(id);\n",
              "      // Send a message to notify the kernel that we're ready.\n",
              "      channel.send({})\n",
              "\n",
              "      for await (const message of channel.messages) {\n",
              "        // Send a message to notify the kernel that we're ready.\n",
              "        channel.send({})\n",
              "        if (message.buffers) {\n",
              "          for (const buffer of message.buffers) {\n",
              "            buffers.push(buffer);\n",
              "            downloaded += buffer.byteLength;\n",
              "            progress.value = downloaded;\n",
              "          }\n",
              "        }\n",
              "      }\n",
              "      const blob = new Blob(buffers, {type: 'application/binary'});\n",
              "      const a = document.createElement('a');\n",
              "      a.href = window.URL.createObjectURL(blob);\n",
              "      a.download = filename;\n",
              "      div.appendChild(a);\n",
              "      a.click();\n",
              "      div.remove();\n",
              "    }\n",
              "  "
            ]
          },
          "metadata": {}
        },
        {
          "output_type": "display_data",
          "data": {
            "text/plain": [
              "<IPython.core.display.Javascript object>"
            ],
            "application/javascript": [
              "download(\"download_60d3cfca-91df-45b8-b14d-f75058569bbd\", \"recipes_full_data.csv\", 71)"
            ]
          },
          "metadata": {}
        }
      ]
    },
    {
      "cell_type": "code",
      "source": [
        "# Función para leer recetas completas desde un archivo CSV\n",
        "def import_complete_recipes_from_csv(csv_file=\"recipes_full_data.csv\"):\n",
        "    try:\n",
        "        recipe_data = []\n",
        "        with open(csv_file, mode='r', encoding='utf-8') as csvfile:\n",
        "            csv_reader = csv.DictReader(csvfile)\n",
        "            for record in csv_reader:\n",
        "                recipe_data.append(record)\n",
        "        print(f\"Se cargaron {len(recipe_data)} recetas completas desde {csv_file}.\")\n",
        "        return recipe_data\n",
        "    except Exception as error:\n",
        "        print(f\"Ocurrió un error al cargar el archivo CSV: {error}\")\n",
        "        return []\n",
        "\n",
        "from google.colab import files\n",
        "\n",
        "# Guardar y descargar el archivo CSV\n",
        "export_complete_recipes_to_csv(recipe_corpus)\n",
        "\n",
        "# Descargar el archivo generado\n",
        "files.download(\"recipes_full_data.csv\")\n",
        "\n",
        "print(f\"Cantidad total de recetas obtenidas: {len(recipe_corpus)}\")\n",
        "if recipe_corpus:\n",
        "    export_complete_recipes_to_csv(recipe_corpus)\n",
        "else:\n",
        "    print(\"No se encontraron recetas para guardar.\")\n",
        "\n",
        "# Imprimir las primeras 5 recetas para verificar el contenido\n",
        "print(recipe_corpus[:5])\n"
      ],
      "metadata": {
        "colab": {
          "base_uri": "https://localhost:8080/",
          "height": 106
        },
        "id": "Fh6RtiEhrWUr",
        "outputId": "41dbad0b-1f85-46e3-e6a7-a919aa5904c4"
      },
      "execution_count": 23,
      "outputs": [
        {
          "output_type": "stream",
          "name": "stdout",
          "text": [
            "Archivo de recetas exportado correctamente a recipes_full_data.csv.\n"
          ]
        },
        {
          "output_type": "display_data",
          "data": {
            "text/plain": [
              "<IPython.core.display.Javascript object>"
            ],
            "application/javascript": [
              "\n",
              "    async function download(id, filename, size) {\n",
              "      if (!google.colab.kernel.accessAllowed) {\n",
              "        return;\n",
              "      }\n",
              "      const div = document.createElement('div');\n",
              "      const label = document.createElement('label');\n",
              "      label.textContent = `Downloading \"${filename}\": `;\n",
              "      div.appendChild(label);\n",
              "      const progress = document.createElement('progress');\n",
              "      progress.max = size;\n",
              "      div.appendChild(progress);\n",
              "      document.body.appendChild(div);\n",
              "\n",
              "      const buffers = [];\n",
              "      let downloaded = 0;\n",
              "\n",
              "      const channel = await google.colab.kernel.comms.open(id);\n",
              "      // Send a message to notify the kernel that we're ready.\n",
              "      channel.send({})\n",
              "\n",
              "      for await (const message of channel.messages) {\n",
              "        // Send a message to notify the kernel that we're ready.\n",
              "        channel.send({})\n",
              "        if (message.buffers) {\n",
              "          for (const buffer of message.buffers) {\n",
              "            buffers.push(buffer);\n",
              "            downloaded += buffer.byteLength;\n",
              "            progress.value = downloaded;\n",
              "          }\n",
              "        }\n",
              "      }\n",
              "      const blob = new Blob(buffers, {type: 'application/binary'});\n",
              "      const a = document.createElement('a');\n",
              "      a.href = window.URL.createObjectURL(blob);\n",
              "      a.download = filename;\n",
              "      div.appendChild(a);\n",
              "      a.click();\n",
              "      div.remove();\n",
              "    }\n",
              "  "
            ]
          },
          "metadata": {}
        },
        {
          "output_type": "display_data",
          "data": {
            "text/plain": [
              "<IPython.core.display.Javascript object>"
            ],
            "application/javascript": [
              "download(\"download_4b307594-3f7c-4ce4-97dd-775ee3e6792c\", \"recipes_full_data.csv\", 52060)"
            ]
          },
          "metadata": {}
        },
        {
          "output_type": "stream",
          "name": "stdout",
          "text": [
            "Cantidad total de recetas obtenidas: 500\n",
            "Archivo de recetas exportado correctamente a recipes_full_data.csv.\n",
            "[{'recipe_id': 1, 'title': 'Easy meatloaf', 'link': 'https://www.allrecipes.com/recipe/16354/easy-meatloaf/', 'ingredients': '', 'steps': ''}, {'recipe_id': 2, 'title': 'Corned beef and cabbage i', 'link': 'https://www.allrecipes.com/recipe/16310/corned-beef-and-cabbage-i/', 'ingredients': '', 'steps': ''}, {'recipe_id': 3, 'title': 'Simple macaroni and cheese', 'link': 'https://www.allrecipes.com/recipe/238691/simple-macaroni-and-cheese/', 'ingredients': '', 'steps': ''}, {'recipe_id': 4, 'title': 'Salisbury steak', 'link': 'https://www.allrecipes.com/recipe/14595/salisbury-steak/', 'ingredients': '', 'steps': ''}, {'recipe_id': 5, 'title': 'Turkey in a smoker', 'link': 'https://www.allrecipes.com/recipe/16984/turkey-in-a-smoker/', 'ingredients': '', 'steps': ''}]\n"
          ]
        }
      ]
    }
  ]
}