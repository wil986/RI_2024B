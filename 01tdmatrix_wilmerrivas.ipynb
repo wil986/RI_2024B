{
  "nbformat": 4,
  "nbformat_minor": 0,
  "metadata": {
    "colab": {
      "provenance": []
    },
    "kernelspec": {
      "name": "python3",
      "display_name": "Python 3"
    },
    "language_info": {
      "name": "python"
    }
  },
  "cells": [
    {
      "cell_type": "code",
      "execution_count": 7,
      "metadata": {
        "id": "XRTYaK7hQmGr"
      },
      "outputs": [],
      "source": [
        "import json\n",
        "\n",
        "datos = []\n",
        "with open(file='/content/sample_data/01tdmatrix_corpus.json', mode='r', encoding='utf-8') as file:\n",
        "    datos = json.load(file)"
      ]
    },
    {
      "cell_type": "code",
      "source": [
        "print(datos[0]['text'].lower())"
      ],
      "metadata": {
        "colab": {
          "base_uri": "https://localhost:8080/"
        },
        "id": "RNr1AtKEQ-UZ",
        "outputId": "782e1bef-1e64-4de3-d6ca-918a9fe33d32"
      },
      "execution_count": 10,
      "outputs": [
        {
          "output_type": "stream",
          "name": "stdout",
          "text": [
            "la inteligencia artificial continúa avanzando rápidamente, transformando sectores como la salud y las finanzas. las empresas están adoptando algoritmos de aprendizaje automático para mejorar la eficiencia. sin embargo, el desafío principal sigue siendo garantizar que las decisiones basadas en datos sean justas y no perpetúen sesgos. la ética es fundamental en este contexto.\n"
          ]
        }
      ]
    },
    {
      "cell_type": "code",
      "source": [
        "print(datos[0]['text'].lower().split())"
      ],
      "metadata": {
        "colab": {
          "base_uri": "https://localhost:8080/"
        },
        "id": "U3yG5lQZRDT3",
        "outputId": "ebbfad29-67e8-4347-938e-7bc8a7f1ccca"
      },
      "execution_count": 9,
      "outputs": [
        {
          "output_type": "stream",
          "name": "stdout",
          "text": [
            "['la', 'inteligencia', 'artificial', 'continúa', 'avanzando', 'rápidamente,', 'transformando', 'sectores', 'como', 'la', 'salud', 'y', 'las', 'finanzas.', 'las', 'empresas', 'están', 'adoptando', 'algoritmos', 'de', 'aprendizaje', 'automático', 'para', 'mejorar', 'la', 'eficiencia.', 'sin', 'embargo,', 'el', 'desafío', 'principal', 'sigue', 'siendo', 'garantizar', 'que', 'las', 'decisiones', 'basadas', 'en', 'datos', 'sean', 'justas', 'y', 'no', 'perpetúen', 'sesgos.', 'la', 'ética', 'es', 'fundamental', 'en', 'este', 'contexto.']\n"
          ]
        }
      ]
    },
    {
      "cell_type": "code",
      "source": [
        "vocab = set(datos[0]['text'].lower().split())\n",
        "print(vocab)\n",
        "print(len(vocab))"
      ],
      "metadata": {
        "colab": {
          "base_uri": "https://localhost:8080/"
        },
        "id": "O0jn2rQLRI0-",
        "outputId": "37bd10f8-65ab-46a1-d9d3-6897c1bc5898"
      },
      "execution_count": 8,
      "outputs": [
        {
          "output_type": "stream",
          "name": "stdout",
          "text": [
            "{'la', 'empresas', 'eficiencia.', 'sin', 'garantizar', 'rápidamente,', 'de', 'mejorar', 'salud', 'sigue', 'contexto.', 'las', 'desafío', 'transformando', 'continúa', 'avanzando', 'artificial', 'basadas', 'ética', 'no', 'este', 'adoptando', 'el', 'siendo', 'fundamental', 'automático', 'justas', 'como', 'es', 'están', 'perpetúen', 'principal', 'aprendizaje', 'y', 'para', 'embargo,', 'datos', 'algoritmos', 'decisiones', 'sean', 'sectores', 'en', 'inteligencia', 'que', 'finanzas.', 'sesgos.'}\n",
            "46\n"
          ]
        }
      ]
    },
    {
      "cell_type": "code",
      "source": [
        "vocab = []\n",
        "for i in range(0,len(datos)):\n",
        "    vocab.extend(datos[i]['text'].lower().replace(',','').replace('.','').split())\n",
        "\n",
        "vocab = set(vocab)\n",
        "print(len(vocab))\n",
        "print(vocab)"
      ],
      "metadata": {
        "colab": {
          "base_uri": "https://localhost:8080/"
        },
        "id": "RbDkw20SRSo4",
        "outputId": "1c277ca3-5dc1-411a-8b9f-31bedffa832e"
      },
      "execution_count": 11,
      "outputs": [
        {
          "output_type": "stream",
          "name": "stdout",
          "text": [
            "230\n",
            "{'garantizar', 'sin', 'mayores', 'muchas', 'visuales', 'promueven', 'e-sports', 'mejorar', 'literarios', 'sigue', 'sesgos', 'real', 'evolucionado', 'realistas', 'diagnostican', 'prioridad', 'aquellos', 'género', 'mejorando', 'educación', 'saludables', 'también', 'entretiene', 'atraen', 'cuidados', 'fundamental', 'mundos', 'otros', 'distancia', 'transformado', 'es', 'crecimiento', 'aumento', 'cambiando', 'herramientas', 'cinematográficas', 'personas', 'virtuales', 'recomendaciones', 'pagos', 'finanzas', 'bienestar', 'ciencia', 'dispositivos', 'perpetúen', 'principal', 'invita', 'implicaciones', 'datos', 'ahora', 'médicos', 'sectores', 'ubicación', 'cada', 'espectadores', 'en', 'nuevas', 'integral', 'telemedicina', 'hasta', 'personal', 'cine', 'libros', 'llevado', 'experiencia', 'optimizando', 'de', 'acceder', 'salud', 'desde', 'consumidores', 'falta', 'géneros', 'las', 'todo', 'avanzando', 'producciones', 'utilizan', 'avances', 'reto', 'cómo', 'jugadores', 'convertido', 'prometedor', 'el', 'temas', 'automático', 'más', 'avanzadas', 'vez', 'están', 'mejores', 'populares', 'se', 'siguen', 'contexto', 'individual', 'además', 'importar', 'películas', 'buscan', 'y', 'alcanzado', 'portátiles', 'impulsa', 'planetas', 'electrónico', 'algoritmos', 'competencias', 'un', 'nivel', 'ha', 'facilitando', 'programas', 'tecnologías', 'pueden', 'inteligencia', 'sus', 'calidad', 'tecnológicos', 'rápidos', 'con', 'trabajos', 'la', 'escenas', 'compras', 'cambiado', 'ofrecer', 'diarias', 'interactuar', 'adopción', 'habilidades', 'series', 'acceso', 'reflexionar', 'desafío', 'solo', 'artificial', 'mercado', 'línea', 'cursos', 'este', 'adoptando', 'completo', 'monitorean', 'eficaces', 'efectos', 'futuro', 'una', 'como', 'forma', 'eficiencia', 'flexibilidad', 'público', 'personalizados', 'realidad', 'interacción', 'educativa', 'streaming', 'plataformas', 'consume', 'permitido', 'inmersivos', 'aprendizaje', 'para', 'crear', 'decisiones', 'millones', 'sean', 'años', 'compramos', 'que', 'empresas', 'sino', 'comercio', 'ficción', 'aplicaciones', 'tratamientos', 'medicina', 'usuario', 'creciente', 'personalizadas', 'está', 'permitiendo', 'uno', 'videojuegos', 'transformando', 'continúa', 'hábitos', 'enfermedades', 'desafían', 'accesibles', 'democratizando', 'basadas', 'ética', 'no', 'transacciones', 'mundo', 'estudiantes', 'siendo', 'los', 'humanidad', 'digitales', 'experiencias', 'embargo', 'justas', 'nuevo', 'cuándo', 'contenido', 'su', 'profesionales', 'incorporando', 'a', 'vida', 'tecnología', 'explorando', 'viaje', 'sobre', 'aumentada', 'especialmente', 'rápidamente', 'tiempo', 'tratan', 'demanda', 'enfoque', 'desarrollo', 'beneficios', 'presencial', 'donde', 'aunque'}\n"
          ]
        }
      ]
    },
    {
      "cell_type": "code",
      "source": [
        "def tdtransform(text):\n",
        "    doc = []\n",
        "    for word in vocab:\n",
        "        if word in text.lower().replace(',','').replace('.','').split():\n",
        "           doc.append(1)\n",
        "        else:\n",
        "            doc.append(0)\n",
        "    return doc"
      ],
      "metadata": {
        "id": "lY8YN-dIRXhw"
      },
      "execution_count": 12,
      "outputs": []
    },
    {
      "cell_type": "code",
      "source": [
        "tdmatrix = []\n",
        "for i in range(0,len(datos)):\n",
        "    doc = tdtransform(text=datos[i]['text'])\n",
        "    tdmatrix.append(doc)\n",
        "\n",
        "print(tdmatrix)"
      ],
      "metadata": {
        "colab": {
          "base_uri": "https://localhost:8080/"
        },
        "id": "OeqE9zIYRbGr",
        "outputId": "05fbd6e8-cbe9-40ab-dea1-a1c6ba09d37a"
      },
      "execution_count": 13,
      "outputs": [
        {
          "output_type": "stream",
          "name": "stdout",
          "text": [
            "[[1, 1, 0, 0, 0, 0, 0, 1, 0, 1, 1, 0, 0, 0, 0, 0, 0, 0, 0, 0, 0, 0, 0, 0, 0, 1, 0, 0, 0, 0, 1, 0, 0, 0, 0, 0, 0, 0, 0, 0, 1, 0, 0, 0, 1, 1, 0, 0, 1, 0, 0, 1, 0, 0, 0, 1, 0, 0, 0, 0, 0, 0, 0, 0, 0, 0, 1, 0, 1, 0, 0, 0, 0, 1, 0, 1, 0, 0, 0, 0, 0, 0, 0, 0, 1, 0, 1, 0, 0, 0, 1, 0, 0, 0, 0, 1, 0, 0, 0, 0, 0, 1, 0, 0, 0, 0, 0, 1, 0, 0, 0, 0, 0, 0, 0, 0, 1, 0, 0, 0, 0, 0, 0, 1, 0, 0, 0, 0, 0, 0, 0, 0, 0, 0, 0, 1, 0, 1, 0, 0, 0, 1, 1, 0, 0, 0, 0, 0, 0, 1, 0, 1, 0, 0, 0, 0, 0, 0, 0, 0, 0, 0, 0, 1, 1, 0, 1, 0, 1, 0, 0, 1, 1, 0, 0, 0, 0, 0, 0, 0, 0, 0, 0, 0, 0, 0, 1, 1, 0, 0, 0, 0, 0, 1, 1, 1, 0, 0, 0, 1, 0, 0, 0, 0, 1, 1, 0, 0, 0, 0, 0, 0, 0, 0, 0, 0, 0, 0, 0, 0, 1, 0, 0, 0, 0, 0, 0, 0, 0, 0], [0, 0, 0, 0, 0, 0, 1, 0, 0, 0, 0, 0, 0, 0, 0, 0, 0, 0, 0, 0, 0, 1, 0, 1, 0, 0, 1, 0, 0, 0, 0, 1, 0, 0, 0, 0, 0, 1, 0, 0, 0, 0, 0, 0, 0, 0, 0, 0, 0, 1, 0, 0, 0, 0, 1, 1, 0, 0, 0, 0, 0, 0, 0, 0, 0, 0, 1, 0, 0, 0, 0, 0, 0, 1, 1, 0, 0, 0, 0, 0, 0, 1, 0, 0, 1, 0, 0, 1, 0, 0, 0, 0, 0, 0, 0, 0, 0, 0, 0, 0, 0, 1, 1, 0, 1, 0, 0, 0, 1, 1, 1, 1, 0, 0, 1, 1, 1, 0, 0, 0, 0, 1, 0, 1, 0, 0, 0, 0, 0, 1, 0, 0, 0, 0, 0, 0, 0, 1, 1, 0, 0, 1, 0, 0, 0, 0, 0, 0, 0, 1, 0, 0, 0, 0, 0, 1, 0, 0, 0, 0, 0, 0, 1, 0, 0, 0, 0, 1, 0, 0, 0, 0, 0, 0, 0, 0, 0, 0, 0, 0, 0, 0, 0, 0, 0, 1, 0, 0, 0, 0, 0, 0, 0, 0, 0, 0, 0, 1, 0, 0, 1, 0, 0, 0, 0, 0, 1, 0, 0, 0, 1, 0, 1, 0, 0, 0, 0, 0, 1, 0, 0, 0, 0, 0, 0, 1, 0, 0, 1, 0], [0, 0, 0, 0, 0, 0, 0, 0, 0, 0, 0, 0, 0, 0, 0, 0, 0, 0, 0, 0, 0, 0, 0, 0, 0, 0, 0, 0, 0, 0, 0, 0, 0, 0, 0, 0, 0, 0, 1, 1, 0, 0, 0, 0, 0, 0, 0, 0, 0, 0, 0, 0, 0, 0, 0, 1, 0, 0, 0, 1, 0, 0, 0, 0, 0, 1, 1, 0, 0, 1, 1, 0, 0, 1, 0, 0, 0, 0, 1, 0, 0, 0, 0, 0, 1, 0, 0, 0, 0, 0, 1, 1, 0, 0, 1, 0, 0, 0, 0, 0, 0, 0, 0, 0, 0, 0, 1, 0, 0, 0, 0, 1, 1, 0, 0, 0, 0, 1, 0, 0, 1, 1, 0, 1, 0, 1, 1, 1, 1, 0, 0, 0, 0, 0, 0, 0, 0, 0, 0, 1, 0, 0, 0, 0, 0, 0, 0, 0, 0, 0, 1, 0, 0, 0, 0, 0, 0, 0, 0, 1, 0, 0, 0, 0, 1, 0, 0, 0, 0, 0, 1, 1, 1, 0, 1, 0, 0, 0, 0, 1, 1, 1, 0, 0, 0, 0, 0, 0, 0, 0, 0, 0, 0, 0, 0, 0, 1, 0, 0, 0, 1, 0, 1, 1, 0, 0, 0, 0, 0, 0, 0, 0, 0, 0, 1, 0, 0, 0, 0, 0, 0, 0, 0, 1, 0, 0, 0, 0, 0, 0], [0, 1, 1, 0, 0, 0, 0, 0, 0, 0, 0, 0, 0, 0, 0, 0, 1, 0, 1, 1, 0, 0, 0, 0, 0, 0, 0, 0, 1, 0, 1, 0, 0, 0, 1, 0, 0, 0, 0, 0, 0, 0, 0, 0, 0, 0, 0, 0, 0, 0, 0, 0, 1, 0, 0, 0, 0, 0, 0, 0, 0, 0, 0, 0, 1, 0, 1, 1, 0, 0, 0, 1, 0, 1, 0, 0, 0, 0, 0, 1, 0, 0, 0, 0, 0, 0, 0, 0, 0, 0, 0, 0, 0, 0, 1, 0, 0, 0, 1, 0, 0, 0, 0, 0, 0, 0, 0, 0, 0, 1, 0, 1, 0, 1, 0, 0, 0, 0, 1, 0, 0, 1, 1, 1, 0, 0, 0, 0, 0, 0, 0, 0, 0, 0, 0, 0, 0, 0, 0, 0, 0, 0, 0, 1, 0, 0, 0, 0, 0, 0, 0, 0, 1, 0, 0, 0, 1, 1, 0, 0, 0, 1, 0, 0, 1, 0, 0, 1, 0, 0, 0, 0, 0, 0, 0, 0, 0, 0, 0, 0, 0, 0, 0, 0, 1, 0, 0, 0, 0, 0, 0, 0, 0, 0, 0, 0, 0, 0, 1, 0, 1, 0, 1, 0, 0, 0, 0, 0, 0, 1, 0, 0, 1, 0, 0, 0, 0, 0, 0, 1, 0, 1, 0, 0, 0, 0, 1, 1, 0, 1], [0, 0, 0, 0, 1, 0, 0, 0, 0, 0, 0, 0, 1, 1, 0, 0, 0, 0, 0, 0, 0, 0, 0, 0, 0, 0, 0, 0, 0, 1, 0, 0, 0, 0, 0, 1, 0, 0, 0, 0, 0, 0, 0, 0, 0, 0, 0, 0, 0, 0, 0, 0, 0, 1, 0, 0, 0, 0, 0, 0, 0, 1, 0, 0, 0, 0, 1, 0, 0, 0, 0, 0, 0, 1, 0, 0, 1, 1, 0, 0, 1, 0, 0, 0, 1, 0, 0, 1, 1, 1, 0, 0, 0, 0, 0, 0, 0, 1, 0, 1, 0, 1, 0, 0, 0, 0, 0, 0, 0, 0, 0, 1, 0, 0, 1, 0, 0, 0, 0, 0, 0, 1, 0, 1, 1, 0, 0, 0, 0, 0, 0, 0, 1, 1, 0, 0, 0, 0, 0, 0, 0, 0, 0, 0, 0, 0, 1, 0, 0, 0, 0, 0, 0, 1, 0, 1, 0, 0, 1, 1, 1, 0, 0, 0, 1, 1, 0, 0, 0, 1, 0, 1, 0, 0, 0, 0, 0, 0, 0, 0, 0, 0, 0, 0, 0, 0, 0, 0, 0, 0, 1, 0, 1, 0, 0, 0, 0, 0, 0, 0, 1, 0, 0, 0, 0, 0, 0, 1, 1, 0, 0, 1, 1, 0, 0, 0, 0, 0, 0, 0, 0, 0, 0, 0, 0, 0, 0, 0, 0, 0], [0, 0, 0, 0, 0, 0, 0, 0, 1, 0, 0, 0, 0, 0, 0, 0, 0, 1, 0, 0, 0, 1, 1, 0, 0, 0, 0, 1, 0, 0, 1, 0, 0, 0, 0, 0, 0, 0, 0, 0, 0, 0, 1, 0, 0, 0, 1, 1, 0, 0, 0, 0, 0, 0, 0, 1, 0, 0, 0, 0, 0, 0, 0, 0, 0, 0, 1, 0, 0, 0, 0, 0, 1, 1, 0, 0, 0, 0, 1, 0, 0, 0, 0, 0, 1, 1, 0, 1, 0, 0, 0, 0, 1, 0, 0, 0, 0, 0, 0, 0, 0, 1, 0, 0, 0, 1, 0, 0, 0, 0, 0, 0, 0, 0, 0, 0, 1, 0, 0, 1, 0, 0, 0, 1, 0, 0, 0, 0, 0, 0, 0, 0, 0, 0, 1, 0, 1, 1, 0, 0, 0, 1, 0, 0, 0, 0, 0, 1, 0, 1, 0, 0, 0, 0, 0, 0, 0, 0, 0, 0, 0, 0, 0, 0, 0, 0, 0, 0, 0, 0, 0, 1, 0, 1, 0, 1, 0, 0, 0, 0, 0, 0, 0, 0, 1, 0, 0, 0, 0, 0, 0, 0, 0, 0, 0, 1, 0, 0, 0, 0, 1, 1, 0, 0, 0, 0, 0, 0, 0, 0, 0, 0, 1, 1, 0, 1, 1, 1, 0, 0, 0, 1, 0, 0, 0, 0, 0, 0, 0, 0], [0, 0, 0, 1, 0, 1, 0, 1, 0, 0, 0, 0, 0, 0, 0, 1, 0, 0, 0, 0, 1, 0, 0, 0, 0, 0, 0, 0, 0, 0, 0, 1, 1, 0, 0, 0, 1, 0, 0, 0, 0, 1, 0, 0, 0, 0, 0, 0, 0, 0, 0, 0, 0, 0, 0, 1, 1, 1, 0, 1, 1, 0, 1, 1, 0, 0, 1, 0, 0, 1, 0, 0, 0, 0, 0, 0, 0, 0, 0, 0, 0, 0, 1, 0, 1, 0, 0, 0, 0, 0, 0, 0, 0, 1, 0, 0, 1, 0, 0, 0, 1, 1, 0, 0, 0, 0, 0, 0, 0, 1, 0, 1, 0, 0, 0, 0, 0, 0, 1, 0, 0, 0, 0, 1, 0, 0, 0, 0, 0, 0, 1, 1, 0, 0, 0, 0, 0, 0, 0, 0, 1, 0, 0, 0, 0, 0, 0, 0, 1, 0, 0, 0, 0, 0, 0, 0, 0, 0, 0, 0, 0, 0, 0, 1, 1, 0, 0, 0, 0, 0, 0, 1, 0, 0, 0, 0, 1, 0, 0, 0, 0, 0, 0, 0, 0, 0, 0, 0, 1, 0, 0, 0, 0, 0, 0, 0, 0, 0, 0, 0, 0, 0, 0, 0, 0, 0, 0, 0, 0, 1, 0, 0, 1, 1, 0, 0, 0, 0, 0, 0, 0, 0, 0, 1, 1, 1, 0, 0, 0, 0], [0, 0, 0, 0, 0, 0, 0, 0, 0, 0, 0, 1, 0, 0, 1, 0, 0, 0, 0, 0, 0, 0, 0, 0, 1, 0, 0, 0, 0, 0, 1, 0, 0, 1, 0, 0, 0, 0, 0, 0, 0, 0, 0, 1, 0, 0, 0, 0, 0, 0, 1, 0, 0, 0, 0, 1, 0, 0, 1, 1, 0, 0, 0, 0, 0, 0, 1, 0, 1, 1, 0, 0, 0, 1, 0, 0, 0, 0, 1, 0, 0, 0, 0, 1, 1, 0, 0, 1, 0, 0, 1, 0, 0, 1, 0, 0, 0, 0, 0, 0, 0, 1, 0, 1, 0, 0, 0, 0, 0, 0, 0, 0, 0, 0, 0, 0, 0, 0, 0, 0, 0, 1, 0, 1, 0, 0, 0, 1, 0, 0, 0, 0, 0, 0, 0, 0, 0, 0, 0, 0, 0, 0, 0, 0, 1, 1, 0, 1, 0, 0, 1, 0, 0, 0, 1, 0, 0, 0, 0, 0, 0, 0, 0, 0, 0, 0, 0, 0, 0, 0, 0, 1, 0, 0, 0, 0, 0, 1, 1, 0, 0, 0, 1, 1, 0, 0, 0, 0, 0, 1, 0, 1, 0, 0, 0, 0, 0, 0, 0, 0, 1, 0, 0, 0, 0, 0, 0, 0, 0, 0, 0, 0, 1, 0, 1, 0, 0, 0, 0, 0, 0, 1, 1, 0, 0, 0, 0, 0, 0, 0]]\n"
          ]
        }
      ]
    },
    {
      "cell_type": "code",
      "source": [
        "query = \"inteligencia artificial en medicina\"\n",
        "print(tdtransform(query))"
      ],
      "metadata": {
        "colab": {
          "base_uri": "https://localhost:8080/"
        },
        "id": "qzn5pONORddp",
        "outputId": "1c02bd3c-c8ec-48f7-bd6a-1c33bb43345d"
      },
      "execution_count": 14,
      "outputs": [
        {
          "output_type": "stream",
          "name": "stdout",
          "text": [
            "[0, 0, 0, 0, 0, 0, 0, 0, 0, 0, 0, 0, 0, 0, 0, 0, 0, 0, 0, 0, 0, 0, 0, 0, 0, 0, 0, 0, 0, 0, 0, 0, 0, 0, 0, 0, 0, 0, 0, 0, 0, 0, 0, 0, 0, 0, 0, 0, 0, 0, 0, 0, 0, 0, 0, 1, 0, 0, 0, 0, 0, 0, 0, 0, 0, 0, 0, 0, 0, 0, 0, 0, 0, 0, 0, 0, 0, 0, 0, 0, 0, 0, 0, 0, 0, 0, 0, 0, 0, 0, 0, 0, 0, 0, 0, 0, 0, 0, 0, 0, 0, 0, 0, 0, 0, 0, 0, 0, 0, 0, 0, 0, 0, 0, 0, 0, 1, 0, 0, 0, 0, 0, 0, 0, 0, 0, 0, 0, 0, 0, 0, 0, 0, 0, 0, 0, 0, 1, 0, 0, 0, 0, 0, 0, 0, 0, 0, 0, 0, 0, 0, 0, 0, 0, 0, 0, 0, 0, 0, 0, 0, 0, 0, 0, 0, 0, 0, 0, 0, 0, 0, 0, 0, 0, 0, 0, 0, 0, 1, 0, 0, 0, 0, 0, 0, 0, 0, 0, 0, 0, 0, 0, 0, 0, 0, 0, 0, 0, 0, 0, 0, 0, 0, 0, 0, 0, 0, 0, 0, 0, 0, 0, 0, 0, 0, 0, 0, 0, 0, 0, 0, 0, 0, 0, 0, 0, 0, 0, 0, 0]\n"
          ]
        }
      ]
    },
    {
      "cell_type": "code",
      "source": [
        "queries = [\n",
        "    \"Inteligencia artificial en medicina\",\n",
        "    \"beneficios de la educación a distancia\",\n",
        "    \"realidad aumentada en videojuegos\",\n",
        "    \"desarrollo personal y habitos saludables\",\n",
        "    \"futuro del comercio electrónico\",\n",
        "    \"tecnologías en cine moderno\",\n",
        "    \"competencias de e-sports\",\n",
        "    \"diagnostico con dispositivos portátiles\",\n",
        "    \"literatura de ciencia ficción\",\n",
        "    \"plataformas de streaming\"\n",
        "]\n",
        "\n",
        "# Almacenar los resultados de las distancias para cada query\n",
        "resultados_queries = {}\n",
        "\n",
        "for query in queries:\n",
        "    # Representación de la query en el espacio término-documento\n",
        "    query_vector = tdtransform(query)\n",
        "\n",
        "    # Calcular la distancia de Jaccard entre la query y cada documento\n",
        "    distancias = [jaccard(query_vector, doc_vector) for doc_vector in tdmatrix]\n",
        "\n",
        "    # Guardar los resultados ordenados para esta query\n",
        "    resultados_queries[query] = sorted(enumerate(distancias), key=lambda x: x[1])\n"
      ],
      "metadata": {
        "id": "KD2NV4LeRf1J"
      },
      "execution_count": 15,
      "outputs": []
    },
    {
      "cell_type": "code",
      "source": [
        "# Mostrar los resultados por cada query\n",
        "for query, resultados in resultados_queries.items():\n",
        "    print(f\"\\nResultados para la query: '{query}'\")\n",
        "    for index, distancia in resultados:\n",
        "        print(f\"Documento {index + 1} - Distancia Jaccard: {distancia}\")\n",
        "\n"
      ],
      "metadata": {
        "colab": {
          "base_uri": "https://localhost:8080/"
        },
        "id": "QEYGUHjUSVqf",
        "outputId": "41d9d1f9-00ab-4a19-f8c7-a25636b539b0"
      },
      "execution_count": 16,
      "outputs": [
        {
          "output_type": "stream",
          "name": "stdout",
          "text": [
            "\n",
            "Resultados para la query: 'Inteligencia artificial en medicina'\n",
            "Documento 6 - Distancia Jaccard: 0.9302325581395349\n",
            "Documento 2 - Distancia Jaccard: 0.9333333333333333\n",
            "Documento 1 - Distancia Jaccard: 0.9361702127659575\n",
            "Documento 8 - Distancia Jaccard: 0.9545454545454546\n",
            "Documento 3 - Distancia Jaccard: 0.9777777777777777\n",
            "Documento 7 - Distancia Jaccard: 0.9782608695652174\n",
            "Documento 4 - Distancia Jaccard: 1.0\n",
            "Documento 5 - Distancia Jaccard: 1.0\n",
            "\n",
            "Resultados para la query: 'beneficios de la educación a distancia'\n",
            "Documento 4 - Distancia Jaccard: 0.8571428571428571\n",
            "Documento 6 - Distancia Jaccard: 0.9333333333333333\n",
            "Documento 8 - Distancia Jaccard: 0.9333333333333333\n",
            "Documento 5 - Distancia Jaccard: 0.9347826086956522\n",
            "Documento 7 - Distancia Jaccard: 0.9347826086956522\n",
            "Documento 2 - Distancia Jaccard: 0.9361702127659575\n",
            "Documento 3 - Distancia Jaccard: 0.9565217391304348\n",
            "Documento 1 - Distancia Jaccard: 0.96\n",
            "\n",
            "Resultados para la query: 'realidad aumentada en videojuegos'\n",
            "Documento 2 - Distancia Jaccard: 0.9090909090909091\n",
            "Documento 3 - Distancia Jaccard: 0.9777777777777777\n",
            "Documento 6 - Distancia Jaccard: 0.9777777777777777\n",
            "Documento 8 - Distancia Jaccard: 0.9777777777777777\n",
            "Documento 5 - Distancia Jaccard: 0.9782608695652174\n",
            "Documento 7 - Distancia Jaccard: 0.9782608695652174\n",
            "Documento 1 - Distancia Jaccard: 0.9795918367346939\n",
            "Documento 4 - Distancia Jaccard: 1.0\n",
            "\n",
            "Resultados para la query: 'desarrollo personal y habitos saludables'\n",
            "Documento 7 - Distancia Jaccard: 0.9069767441860465\n",
            "Documento 2 - Distancia Jaccard: 0.9565217391304348\n",
            "Documento 6 - Distancia Jaccard: 0.9777777777777777\n",
            "Documento 8 - Distancia Jaccard: 0.9777777777777777\n",
            "Documento 5 - Distancia Jaccard: 0.9782608695652174\n",
            "Documento 1 - Distancia Jaccard: 0.9795918367346939\n",
            "Documento 3 - Distancia Jaccard: 1.0\n",
            "Documento 4 - Distancia Jaccard: 1.0\n",
            "\n",
            "Resultados para la query: 'futuro del comercio electrónico'\n",
            "Documento 3 - Distancia Jaccard: 0.9534883720930233\n",
            "Documento 6 - Distancia Jaccard: 0.9772727272727273\n",
            "Documento 8 - Distancia Jaccard: 0.9772727272727273\n",
            "Documento 1 - Distancia Jaccard: 1.0\n",
            "Documento 2 - Distancia Jaccard: 1.0\n",
            "Documento 4 - Distancia Jaccard: 1.0\n",
            "Documento 5 - Distancia Jaccard: 1.0\n",
            "Documento 7 - Distancia Jaccard: 1.0\n",
            "\n",
            "Resultados para la query: 'tecnologías en cine moderno'\n",
            "Documento 5 - Distancia Jaccard: 0.9545454545454546\n",
            "Documento 2 - Distancia Jaccard: 0.9555555555555556\n",
            "Documento 3 - Distancia Jaccard: 0.9772727272727273\n",
            "Documento 6 - Distancia Jaccard: 0.9772727272727273\n",
            "Documento 8 - Distancia Jaccard: 0.9772727272727273\n",
            "Documento 7 - Distancia Jaccard: 0.9777777777777777\n",
            "Documento 1 - Distancia Jaccard: 0.9791666666666666\n",
            "Documento 4 - Distancia Jaccard: 1.0\n",
            "\n",
            "Resultados para la query: 'competencias de e-sports'\n",
            "Documento 2 - Distancia Jaccard: 0.9318181818181818\n",
            "Documento 3 - Distancia Jaccard: 0.9772727272727273\n",
            "Documento 4 - Distancia Jaccard: 0.9772727272727273\n",
            "Documento 6 - Distancia Jaccard: 0.9772727272727273\n",
            "Documento 8 - Distancia Jaccard: 0.9772727272727273\n",
            "Documento 5 - Distancia Jaccard: 0.9777777777777777\n",
            "Documento 7 - Distancia Jaccard: 0.9777777777777777\n",
            "Documento 1 - Distancia Jaccard: 0.9791666666666666\n",
            "\n",
            "Resultados para la query: 'diagnostico con dispositivos portátiles'\n",
            "Documento 8 - Distancia Jaccard: 0.9285714285714286\n",
            "Documento 3 - Distancia Jaccard: 0.9772727272727273\n",
            "Documento 4 - Distancia Jaccard: 0.9772727272727273\n",
            "Documento 5 - Distancia Jaccard: 0.9777777777777777\n",
            "Documento 2 - Distancia Jaccard: 0.9782608695652174\n",
            "Documento 1 - Distancia Jaccard: 1.0\n",
            "Documento 6 - Distancia Jaccard: 1.0\n",
            "Documento 7 - Distancia Jaccard: 1.0\n",
            "\n",
            "Resultados para la query: 'literatura de ciencia ficción'\n",
            "Documento 6 - Distancia Jaccard: 0.9285714285714286\n",
            "Documento 3 - Distancia Jaccard: 0.9772727272727273\n",
            "Documento 4 - Distancia Jaccard: 0.9772727272727273\n",
            "Documento 8 - Distancia Jaccard: 0.9772727272727273\n",
            "Documento 5 - Distancia Jaccard: 0.9777777777777777\n",
            "Documento 7 - Distancia Jaccard: 0.9777777777777777\n",
            "Documento 2 - Distancia Jaccard: 0.9782608695652174\n",
            "Documento 1 - Distancia Jaccard: 0.9791666666666666\n",
            "\n",
            "Resultados para la query: 'plataformas de streaming'\n",
            "Documento 5 - Distancia Jaccard: 0.9302325581395349\n",
            "Documento 3 - Distancia Jaccard: 0.9534883720930233\n",
            "Documento 4 - Distancia Jaccard: 0.9772727272727273\n",
            "Documento 6 - Distancia Jaccard: 0.9772727272727273\n",
            "Documento 8 - Distancia Jaccard: 0.9772727272727273\n",
            "Documento 7 - Distancia Jaccard: 0.9777777777777777\n",
            "Documento 2 - Distancia Jaccard: 0.9782608695652174\n",
            "Documento 1 - Distancia Jaccard: 0.9791666666666666\n"
          ]
        }
      ]
    }
  ]
}