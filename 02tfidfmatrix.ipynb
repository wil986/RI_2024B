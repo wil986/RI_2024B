{
  "cells": [
    {
      "cell_type": "markdown",
      "id": "2d2219b455c1e0ef",
      "metadata": {
        "id": "2d2219b455c1e0ef"
      },
      "source": [
        "# Ejercicio 02: Cálculo de la Matriz TF-IDF y Búsqueda de Consultas en un Corpus\n",
        "\n",
        "El objetivo de este ejercicio es calcular la matriz TF-IDF de un corpus de documentos y luego aplicar una serie de consultas para recuperar los documentos más relevantes. Este ejercicio te ayudará a comprender cómo funciona el modelo de espacio vectorial y cómo se utiliza TF-IDF para ponderar términos en documentos y consultas."
      ]
    },
    {
      "cell_type": "code",
      "execution_count": 17,
      "id": "691d0449-cfea-4b0f-b389-b4b1e6c090c0",
      "metadata": {
        "id": "691d0449-cfea-4b0f-b389-b4b1e6c090c0"
      },
      "outputs": [],
      "source": [
        "import re\n",
        "import numpy as np\n",
        "import pandas as pd\n",
        "from sklearn.feature_extraction.text import CountVectorizer\n",
        "from sklearn.feature_extraction.text import TfidfVectorizer\n",
        "from sklearn.metrics.pairwise import cosine_similarity"
      ]
    },
    {
      "cell_type": "markdown",
      "id": "832d0fc1-adca-48ca-bcc7-2a9783f60629",
      "metadata": {
        "id": "832d0fc1-adca-48ca-bcc7-2a9783f60629"
      },
      "source": [
        "**1. Preprocesamiento del texto**\n",
        "\n",
        "Lectura del corpus desde el archivo TXT."
      ]
    },
    {
      "cell_type": "code",
      "execution_count": 18,
      "id": "96f9e88d-60c8-452e-98d5-d91c8fee6c07",
      "metadata": {
        "colab": {
          "base_uri": "https://localhost:8080/"
        },
        "id": "96f9e88d-60c8-452e-98d5-d91c8fee6c07",
        "outputId": "eb0dcab2-c7e1-4908-ff39-46b8816e8cef"
      },
      "outputs": [
        {
          "output_type": "stream",
          "name": "stdout",
          "text": [
            "Texto cargado en el corpus:\n",
            "Texto 1: Documento 1: La inteligencia artificial continúa avanzando rápidamente, transformando sectores como la salud y las finanzas. Las empresas están adoptando algoritmos de aprendizaje automático para mejorar la eficiencia. Sin embargo, el desafío principal sigue siendo garantizar que las decisiones basadas en datos sean justas y no perpetúen sesgos. La ética es fundamental en este contexto.\n",
            "Texto 2: Documento 2: El desarrollo de videojuegos ha alcanzado un nuevo nivel con tecnologías como la realidad aumentada y la inteligencia artificial. Los jugadores ahora pueden interactuar en mundos virtuales más inmersivos. Este crecimiento también impulsa el mercado de los e-sports, donde las competencias profesionales atraen a millones de espectadores en todo el mundo.\n",
            "Texto 3: Documento 3: El comercio electrónico ha cambiado la forma en que compramos. Con la creciente demanda de compras en línea, las empresas están optimizando sus plataformas digitales para ofrecer mejores experiencias de usuario. Desde recomendaciones personalizadas hasta pagos rápidos, los avances en tecnología siguen facilitando las transacciones diarias de los consumidores.\n",
            "Texto 4: Documento 4: La educación a distancia ha permitido a millones de estudiantes acceder a programas de calidad sin importar su ubicación. La flexibilidad es uno de los mayores beneficios, especialmente para aquellos con trabajos a tiempo completo. Aunque la falta de interacción presencial es un reto, las herramientas digitales siguen mejorando la experiencia educativa.\n",
            "Texto 5: Documento 5: El cine ha evolucionado con los años, incorporando efectos visuales cada vez más realistas. Las producciones cinematográficas utilizan tecnologías avanzadas para crear escenas que desafían la realidad. Además, el acceso a plataformas de streaming ha transformado cómo y cuándo el público consume contenido, democratizando el acceso a películas y series.\n",
            "Texto 6: Documento 6: La ciencia ficción es uno de los géneros literarios más populares, explorando temas como el viaje en el tiempo, la inteligencia artificial y la vida en otros planetas. Este género no solo entretiene, sino que también invita a reflexionar sobre el futuro de la humanidad y las implicaciones de los avances tecnológicos.\n",
            "Texto 7: Documento 7: El desarrollo personal se ha convertido en una prioridad para muchas personas que buscan mejorar su calidad de vida. Desde la adopción de hábitos saludables hasta el aprendizaje de nuevas habilidades, el enfoque en el crecimiento individual ha llevado a un aumento en la demanda de libros, cursos y aplicaciones que promueven el bienestar integral.\n",
            "Texto 8: Documento 8: Los avances en la medicina están cambiando la forma en que se diagnostican y tratan las enfermedades. Desde la telemedicina hasta los dispositivos portátiles que monitorean la salud en tiempo real, la tecnología está permitiendo a los médicos ofrecer cuidados más personalizados. El futuro de la medicina es prometedor, con tratamientos más accesibles y eficaces.\n"
          ]
        }
      ],
      "source": [
        "# Abrir y leer el archivo que contiene el corpus desde la ruta específica\n",
        "with open('/content/sample_data/02tfidfmatrix_corpus.txt', 'r', encoding='utf-8') as archivo:\n",
        "    documentos = archivo.readlines()\n",
        "\n",
        "# Mostrar el contenido del corpus para revisión\n",
        "print(\"Texto cargado en el corpus:\")\n",
        "for indice, texto in enumerate(documentos):\n",
        "    print(f\"Texto {indice + 1}: {texto.strip()}\")\n"
      ]
    },
    {
      "cell_type": "markdown",
      "id": "a742f8f8-df9d-470d-ac27-69d8993c8e14",
      "metadata": {
        "id": "a742f8f8-df9d-470d-ac27-69d8993c8e14"
      },
      "source": [
        "Tokenización de los documentos."
      ]
    },
    {
      "cell_type": "code",
      "execution_count": 21,
      "id": "3895bf16-d387-4fe1-9f53-360c000f5514",
      "metadata": {
        "colab": {
          "base_uri": "https://localhost:8080/"
        },
        "id": "3895bf16-d387-4fe1-9f53-360c000f5514",
        "outputId": "1f9b98d8-d93d-42a6-990b-037fbf2cc9ad"
      },
      "outputs": [
        {
          "output_type": "stream",
          "name": "stdout",
          "text": [
            "Documentos procesados:\n",
            "Texto 1: ['documento', '1', 'la', 'inteligencia', 'artificial', 'continúa', 'avanzando', 'rápidamente', 'transformando', 'sectores', 'como', 'la', 'salud', 'y', 'las', 'finanzas', 'las', 'empresas', 'están', 'adoptando', 'algoritmos', 'de', 'aprendizaje', 'automático', 'para', 'mejorar', 'la', 'eficiencia', 'sin', 'embargo', 'el', 'desafío', 'principal', 'sigue', 'siendo', 'garantizar', 'que', 'las', 'decisiones', 'basadas', 'en', 'datos', 'sean', 'justas', 'y', 'no', 'perpetúen', 'sesgos', 'la', 'ética', 'es', 'fundamental', 'en', 'este', 'contexto']\n",
            "Texto 2: ['documento', '2', 'el', 'desarrollo', 'de', 'videojuegos', 'ha', 'alcanzado', 'un', 'nuevo', 'nivel', 'con', 'tecnologías', 'como', 'la', 'realidad', 'aumentada', 'y', 'la', 'inteligencia', 'artificial', 'los', 'jugadores', 'ahora', 'pueden', 'interactuar', 'en', 'mundos', 'virtuales', 'más', 'inmersivos', 'este', 'crecimiento', 'también', 'impulsa', 'el', 'mercado', 'de', 'los', 'e', 'sports', 'donde', 'las', 'competencias', 'profesionales', 'atraen', 'a', 'millones', 'de', 'espectadores', 'en', 'todo', 'el', 'mundo']\n",
            "Texto 3: ['documento', '3', 'el', 'comercio', 'electrónico', 'ha', 'cambiado', 'la', 'forma', 'en', 'que', 'compramos', 'con', 'la', 'creciente', 'demanda', 'de', 'compras', 'en', 'línea', 'las', 'empresas', 'están', 'optimizando', 'sus', 'plataformas', 'digitales', 'para', 'ofrecer', 'mejores', 'experiencias', 'de', 'usuario', 'desde', 'recomendaciones', 'personalizadas', 'hasta', 'pagos', 'rápidos', 'los', 'avances', 'en', 'tecnología', 'siguen', 'facilitando', 'las', 'transacciones', 'diarias', 'de', 'los', 'consumidores']\n",
            "Texto 4: ['documento', '4', 'la', 'educación', 'a', 'distancia', 'ha', 'permitido', 'a', 'millones', 'de', 'estudiantes', 'acceder', 'a', 'programas', 'de', 'calidad', 'sin', 'importar', 'su', 'ubicación', 'la', 'flexibilidad', 'es', 'uno', 'de', 'los', 'mayores', 'beneficios', 'especialmente', 'para', 'aquellos', 'con', 'trabajos', 'a', 'tiempo', 'completo', 'aunque', 'la', 'falta', 'de', 'interacción', 'presencial', 'es', 'un', 'reto', 'las', 'herramientas', 'digitales', 'siguen', 'mejorando', 'la', 'experiencia', 'educativa']\n",
            "Texto 5: ['documento', '5', 'el', 'cine', 'ha', 'evolucionado', 'con', 'los', 'años', 'incorporando', 'efectos', 'visuales', 'cada', 'vez', 'más', 'realistas', 'las', 'producciones', 'cinematográficas', 'utilizan', 'tecnologías', 'avanzadas', 'para', 'crear', 'escenas', 'que', 'desafían', 'la', 'realidad', 'además', 'el', 'acceso', 'a', 'plataformas', 'de', 'streaming', 'ha', 'transformado', 'cómo', 'y', 'cuándo', 'el', 'público', 'consume', 'contenido', 'democratizando', 'el', 'acceso', 'a', 'películas', 'y', 'series']\n",
            "Texto 6: ['documento', '6', 'la', 'ciencia', 'ficción', 'es', 'uno', 'de', 'los', 'géneros', 'literarios', 'más', 'populares', 'explorando', 'temas', 'como', 'el', 'viaje', 'en', 'el', 'tiempo', 'la', 'inteligencia', 'artificial', 'y', 'la', 'vida', 'en', 'otros', 'planetas', 'este', 'género', 'no', 'solo', 'entretiene', 'sino', 'que', 'también', 'invita', 'a', 'reflexionar', 'sobre', 'el', 'futuro', 'de', 'la', 'humanidad', 'y', 'las', 'implicaciones', 'de', 'los', 'avances', 'tecnológicos']\n",
            "Texto 7: ['documento', '7', 'el', 'desarrollo', 'personal', 'se', 'ha', 'convertido', 'en', 'una', 'prioridad', 'para', 'muchas', 'personas', 'que', 'buscan', 'mejorar', 'su', 'calidad', 'de', 'vida', 'desde', 'la', 'adopción', 'de', 'hábitos', 'saludables', 'hasta', 'el', 'aprendizaje', 'de', 'nuevas', 'habilidades', 'el', 'enfoque', 'en', 'el', 'crecimiento', 'individual', 'ha', 'llevado', 'a', 'un', 'aumento', 'en', 'la', 'demanda', 'de', 'libros', 'cursos', 'y', 'aplicaciones', 'que', 'promueven', 'el', 'bienestar', 'integral']\n",
            "Texto 8: ['documento', '8', 'los', 'avances', 'en', 'la', 'medicina', 'están', 'cambiando', 'la', 'forma', 'en', 'que', 'se', 'diagnostican', 'y', 'tratan', 'las', 'enfermedades', 'desde', 'la', 'telemedicina', 'hasta', 'los', 'dispositivos', 'portátiles', 'que', 'monitorean', 'la', 'salud', 'en', 'tiempo', 'real', 'la', 'tecnología', 'está', 'permitiendo', 'a', 'los', 'médicos', 'ofrecer', 'cuidados', 'más', 'personalizados', 'el', 'futuro', 'de', 'la', 'medicina', 'es', 'prometedor', 'con', 'tratamientos', 'más', 'accesibles', 'y', 'eficaces']\n"
          ]
        }
      ],
      "source": [
        "import re  # Asegurarse de que las expresiones regulares estén disponibles\n",
        "\n",
        "def dividir_en_palabras(texto):\n",
        "    # Utilizar expresiones regulares para segmentar el texto en términos\n",
        "    palabras = re.findall(r'\\b\\w+\\b', texto.lower())  # Convertir a minúsculas y capturar solo palabras\n",
        "    return palabras\n",
        "\n",
        "# Tokenizar cada documento dentro del conjunto de datos\n",
        "documentos_tokenizados = [dividir_en_palabras(documento) for documento in documentos]\n",
        "\n",
        "# Mostrar el resultado del corpus tokenizado\n",
        "print(\"Documentos procesados:\")\n",
        "for indice, lista_palabras in enumerate(documentos_tokenizados):\n",
        "    print(f\"Texto {indice + 1}: {lista_palabras}\")\n"
      ]
    },
    {
      "cell_type": "markdown",
      "id": "e31fa31c-d1df-4f96-9341-e54b2579fe1a",
      "metadata": {
        "id": "e31fa31c-d1df-4f96-9341-e54b2579fe1a"
      },
      "source": [
        "Normalización del texto (conversión a minúsculas, eliminación de signos de puntuación)."
      ]
    },
    {
      "cell_type": "code",
      "execution_count": 24,
      "id": "443797c7-4d46-459c-9932-e6e22d57f44e",
      "metadata": {
        "colab": {
          "base_uri": "https://localhost:8080/"
        },
        "id": "443797c7-4d46-459c-9932-e6e22d57f44e",
        "outputId": "7c7530de-930e-414c-824a-199c94cdd931"
      },
      "outputs": [
        {
          "output_type": "stream",
          "name": "stdout",
          "text": [
            "Textos normalizados:\n",
            "Texto 1: documento 1 la inteligencia artificial continua avanzando rapidamente transformando sectores como la salud y las finanzas las empresas estan adoptando algoritmos de aprendizaje automatico para mejorar la eficiencia sin embargo el desafio principal sigue siendo garantizar que las decisiones basadas en datos sean justas y no perpetuen sesgos la etica es fundamental en este contexto\n",
            "\n",
            "Texto 2: documento 2 el desarrollo de videojuegos ha alcanzado un nuevo nivel con tecnologias como la realidad aumentada y la inteligencia artificial los jugadores ahora pueden interactuar en mundos virtuales mas inmersivos este crecimiento tambien impulsa el mercado de los esports donde las competencias profesionales atraen a millones de espectadores en todo el mundo\n",
            "\n",
            "Texto 3: documento 3 el comercio electronico ha cambiado la forma en que compramos con la creciente demanda de compras en linea las empresas estan optimizando sus plataformas digitales para ofrecer mejores experiencias de usuario desde recomendaciones personalizadas hasta pagos rapidos los avances en tecnologia siguen facilitando las transacciones diarias de los consumidores\n",
            "\n",
            "Texto 4: documento 4 la educacion a distancia ha permitido a millones de estudiantes acceder a programas de calidad sin importar su ubicacion la flexibilidad es uno de los mayores beneficios especialmente para aquellos con trabajos a tiempo completo aunque la falta de interaccion presencial es un reto las herramientas digitales siguen mejorando la experiencia educativa\n",
            "\n",
            "Texto 5: documento 5 el cine ha evolucionado con los anos incorporando efectos visuales cada vez mas realistas las producciones cinematograficas utilizan tecnologias avanzadas para crear escenas que desafian la realidad ademas el acceso a plataformas de streaming ha transformado como y cuando el publico consume contenido democratizando el acceso a peliculas y series\n",
            "\n",
            "Texto 6: documento 6 la ciencia ficcion es uno de los generos literarios mas populares explorando temas como el viaje en el tiempo la inteligencia artificial y la vida en otros planetas este genero no solo entretiene sino que tambien invita a reflexionar sobre el futuro de la humanidad y las implicaciones de los avances tecnologicos\n",
            "\n",
            "Texto 7: documento 7 el desarrollo personal se ha convertido en una prioridad para muchas personas que buscan mejorar su calidad de vida desde la adopcion de habitos saludables hasta el aprendizaje de nuevas habilidades el enfoque en el crecimiento individual ha llevado a un aumento en la demanda de libros cursos y aplicaciones que promueven el bienestar integral\n",
            "\n",
            "Texto 8: documento 8 los avances en la medicina estan cambiando la forma en que se diagnostican y tratan las enfermedades desde la telemedicina hasta los dispositivos portatiles que monitorean la salud en tiempo real la tecnologia esta permitiendo a los medicos ofrecer cuidados mas personalizados el futuro de la medicina es prometedor con tratamientos mas accesibles y eficaces\n",
            "\n"
          ]
        }
      ],
      "source": [
        "def limpiar_texto(texto):\n",
        "    # Convertir todo el texto a minúsculas\n",
        "    texto = texto.lower()\n",
        "    # Remover puntuaciones utilizando expresiones regulares\n",
        "    texto = re.sub(r'[^\\w\\s]', '', texto)\n",
        "\n",
        "    # Sustituir caracteres con acentos por sus equivalentes sin acentos\n",
        "    # Crear una tabla de mapeo para la conversión\n",
        "    mapa_traduccion = str.maketrans(\n",
        "        \"áéíóúüñ\",  # Caracteres originales\n",
        "        \"aeiouun\"   # Caracteres sustitutos\n",
        "    )\n",
        "    texto = texto.translate(mapa_traduccion)\n",
        "\n",
        "    return texto\n",
        "\n",
        "# Normalizar cada texto dentro del conjunto de documentos\n",
        "documentos_normalizados = [limpiar_texto(documento) for documento in documentos]\n",
        "\n",
        "# Mostrar el contenido normalizado\n",
        "print(\"Textos normalizados:\")\n",
        "for indice, contenido in enumerate(documentos_normalizados):\n",
        "    print(f\"Texto {indice + 1}: {contenido}\")\n"
      ]
    },
    {
      "cell_type": "markdown",
      "id": "06297a86-f264-4ae2-a319-cf3ee9483376",
      "metadata": {
        "tags": [],
        "id": "06297a86-f264-4ae2-a319-cf3ee9483376"
      },
      "source": [
        "**2. Construcción de la matriz TF-IDF**\n",
        "\n",
        "Cálculo de la frecuencia de término (TF) para cada término en cada documento."
      ]
    },
    {
      "cell_type": "code",
      "execution_count": 25,
      "id": "2aa66dd7-d655-44c8-a7d6-c698aaf6e487",
      "metadata": {
        "colab": {
          "base_uri": "https://localhost:8080/"
        },
        "id": "2aa66dd7-d655-44c8-a7d6-c698aaf6e487",
        "outputId": "e2aaa23c-d006-4b1f-adef-1ff629f797a5"
      },
      "outputs": [
        {
          "output_type": "stream",
          "name": "stdout",
          "text": [
            "Matriz de Frecuencias de Términos (TF):\n",
            "   acceder  accesibles  acceso  ademas  adopcion  adoptando  ahora  alcanzado  \\\n",
            "0        0           0       0       0         0          1      0          0   \n",
            "1        0           0       0       0         0          0      1          1   \n",
            "2        0           0       0       0         0          0      0          0   \n",
            "3        1           0       0       0         0          0      0          0   \n",
            "4        0           0       2       1         0          0      0          0   \n",
            "5        0           0       0       0         0          0      0          0   \n",
            "6        0           0       0       0         1          0      0          0   \n",
            "7        0           1       0       0         0          0      0          0   \n",
            "\n",
            "   algoritmos  anos  ...  una  uno  usuario  utilizan  vez  viaje  vida  \\\n",
            "0           1     0  ...    0    0        0         0    0      0     0   \n",
            "1           0     0  ...    0    0        0         0    0      0     0   \n",
            "2           0     0  ...    0    0        1         0    0      0     0   \n",
            "3           0     0  ...    0    1        0         0    0      0     0   \n",
            "4           0     1  ...    0    0        0         1    1      0     0   \n",
            "5           0     0  ...    0    1        0         0    0      1     1   \n",
            "6           0     0  ...    1    0        0         0    0      0     1   \n",
            "7           0     0  ...    0    0        0         0    0      0     0   \n",
            "\n",
            "   videojuegos  virtuales  visuales  \n",
            "0            0          0         0  \n",
            "1            1          1         0  \n",
            "2            0          0         0  \n",
            "3            0          0         0  \n",
            "4            0          0         1  \n",
            "5            0          0         0  \n",
            "6            0          0         0  \n",
            "7            0          0         0  \n",
            "\n",
            "[8 rows x 228 columns]\n"
          ]
        }
      ],
      "source": [
        "# Configurar el vectorizador para calcular las frecuencias de los términos\n",
        "frecuenciador = CountVectorizer()\n",
        "\n",
        "# Generar la matriz de frecuencias a partir del corpus previamente normalizado\n",
        "matriz_frecuencias = frecuenciador.fit_transform(documentos_normalizados)\n",
        "\n",
        "# Convertir la matriz a un DataFrame para facilitar su interpretación\n",
        "df_frecuencias = pd.DataFrame(matriz_frecuencias.toarray(), columns=frecuenciador.get_feature_names_out())\n",
        "\n",
        "# Mostrar la matriz de frecuencias de términos (TF)\n",
        "print(\"Matriz de Frecuencias de Términos (TF):\")\n",
        "print(df_frecuencias)\n"
      ]
    },
    {
      "cell_type": "markdown",
      "id": "81976a64-477a-4c98-8399-0e3b4c78b8a3",
      "metadata": {
        "id": "81976a64-477a-4c98-8399-0e3b4c78b8a3"
      },
      "source": [
        "Cálculo de la frecuencia inversa de documento (IDF) para cada término en el corpus."
      ]
    },
    {
      "cell_type": "code",
      "execution_count": 26,
      "id": "defe0c6d-42a9-4109-b52a-e7734561ab56",
      "metadata": {
        "colab": {
          "base_uri": "https://localhost:8080/"
        },
        "id": "defe0c6d-42a9-4109-b52a-e7734561ab56",
        "outputId": "6e11de99-8adb-427c-9e61-917aa42cd1df"
      },
      "outputs": [
        {
          "output_type": "stream",
          "name": "stdout",
          "text": [
            "Frecuencia Inversa de Documento (IDF):\n",
            "         Palabra       IDF\n",
            "0        acceder  2.079442\n",
            "1     accesibles  2.079442\n",
            "2         acceso  2.079442\n",
            "3         ademas  2.079442\n",
            "4       adopcion  2.079442\n",
            "..           ...       ...\n",
            "223        viaje  2.079442\n",
            "224         vida  1.386294\n",
            "225  videojuegos  2.079442\n",
            "226    virtuales  2.079442\n",
            "227     visuales  2.079442\n",
            "\n",
            "[228 rows x 2 columns]\n"
          ]
        }
      ],
      "source": [
        "# Contar el total de textos en el conjunto de datos procesados\n",
        "total_documentos = len(documentos_normalizados)\n",
        "\n",
        "# Calcular la cantidad de textos que contienen cada término\n",
        "frecuencia_documentos = (df_frecuencias > 0).sum()\n",
        "\n",
        "# Calcular los valores IDF utilizando la fórmula matemática\n",
        "valores_idf = np.log(total_documentos / frecuencia_documentos)\n",
        "\n",
        "# Convertir los valores IDF en un DataFrame para mejor presentación\n",
        "df_idf = pd.DataFrame(valores_idf, columns=['IDF']).reset_index()\n",
        "df_idf.columns = ['Palabra', 'IDF']\n",
        "\n",
        "# Mostrar los valores calculados de IDF\n",
        "print(\"Frecuencia Inversa de Documento (IDF):\")\n",
        "print(df_idf)\n"
      ]
    },
    {
      "cell_type": "code",
      "execution_count": 29,
      "id": "14d28f5f-d00b-444e-9380-3b6c3a16f8e2",
      "metadata": {
        "colab": {
          "base_uri": "https://localhost:8080/"
        },
        "id": "14d28f5f-d00b-444e-9380-3b6c3a16f8e2",
        "outputId": "4ab1e557-b302-45ec-f16d-d9dfe3a1ae19"
      },
      "outputs": [
        {
          "output_type": "stream",
          "name": "stdout",
          "text": [
            "Valores IDF en orden descendente:\n",
            "       Palabra       IDF\n",
            "0      acceder  2.079442\n",
            "134   medicina  2.079442\n",
            "136  mejorando  2.079442\n",
            "138    mejores  2.079442\n",
            "139    mercado  2.079442\n",
            "..         ...       ...\n",
            "73          el  0.133531\n",
            "126        las  0.133531\n",
            "53          de  0.000000\n",
            "66   documento  0.000000\n",
            "125         la  0.000000\n",
            "\n",
            "[228 rows x 2 columns]\n"
          ]
        }
      ],
      "source": [
        "# Organizar los valores IDF en orden descendente\n",
        "idf_valores_ordenados = df_idf.sort_values(by='IDF', ascending=False)\n",
        "\n",
        "# Mostrar los valores IDF organizados de mayor a menor\n",
        "print(\"Valores IDF en orden descendente:\")\n",
        "print(idf_valores_ordenados)"
      ]
    },
    {
      "cell_type": "code",
      "execution_count": 30,
      "id": "60be19a2-dfdc-4565-a145-138b589a53d9",
      "metadata": {
        "colab": {
          "base_uri": "https://localhost:8080/"
        },
        "id": "60be19a2-dfdc-4565-a145-138b589a53d9",
        "outputId": "147bd62b-426e-41a4-b676-933208551396"
      },
      "outputs": [
        {
          "output_type": "stream",
          "name": "stdout",
          "text": [
            "Matriz TF-IDF calculada:\n",
            "Palabra   acceder  accesibles    acceso    ademas  adopcion  adoptando  \\\n",
            "0        0.000000    0.000000  0.000000  0.000000  0.000000   2.079442   \n",
            "1        0.000000    0.000000  0.000000  0.000000  0.000000   0.000000   \n",
            "2        0.000000    0.000000  0.000000  0.000000  0.000000   0.000000   \n",
            "3        2.079442    0.000000  0.000000  0.000000  0.000000   0.000000   \n",
            "4        0.000000    0.000000  4.158883  2.079442  0.000000   0.000000   \n",
            "5        0.000000    0.000000  0.000000  0.000000  0.000000   0.000000   \n",
            "6        0.000000    0.000000  0.000000  0.000000  2.079442   0.000000   \n",
            "7        0.000000    2.079442  0.000000  0.000000  0.000000   0.000000   \n",
            "\n",
            "Palabra     ahora  alcanzado  algoritmos      anos  ...       una       uno  \\\n",
            "0        0.000000   0.000000    2.079442  0.000000  ...  0.000000  0.000000   \n",
            "1        2.079442   2.079442    0.000000  0.000000  ...  0.000000  0.000000   \n",
            "2        0.000000   0.000000    0.000000  0.000000  ...  0.000000  0.000000   \n",
            "3        0.000000   0.000000    0.000000  0.000000  ...  0.000000  1.386294   \n",
            "4        0.000000   0.000000    0.000000  2.079442  ...  0.000000  0.000000   \n",
            "5        0.000000   0.000000    0.000000  0.000000  ...  0.000000  1.386294   \n",
            "6        0.000000   0.000000    0.000000  0.000000  ...  2.079442  0.000000   \n",
            "7        0.000000   0.000000    0.000000  0.000000  ...  0.000000  0.000000   \n",
            "\n",
            "Palabra   usuario  utilizan       vez     viaje      vida  videojuegos  \\\n",
            "0        0.000000  0.000000  0.000000  0.000000  0.000000     0.000000   \n",
            "1        0.000000  0.000000  0.000000  0.000000  0.000000     2.079442   \n",
            "2        2.079442  0.000000  0.000000  0.000000  0.000000     0.000000   \n",
            "3        0.000000  0.000000  0.000000  0.000000  0.000000     0.000000   \n",
            "4        0.000000  2.079442  2.079442  0.000000  0.000000     0.000000   \n",
            "5        0.000000  0.000000  0.000000  2.079442  1.386294     0.000000   \n",
            "6        0.000000  0.000000  0.000000  0.000000  1.386294     0.000000   \n",
            "7        0.000000  0.000000  0.000000  0.000000  0.000000     0.000000   \n",
            "\n",
            "Palabra  virtuales  visuales  \n",
            "0         0.000000  0.000000  \n",
            "1         2.079442  0.000000  \n",
            "2         0.000000  0.000000  \n",
            "3         0.000000  0.000000  \n",
            "4         0.000000  2.079442  \n",
            "5         0.000000  0.000000  \n",
            "6         0.000000  0.000000  \n",
            "7         0.000000  0.000000  \n",
            "\n",
            "[8 rows x 228 columns]\n"
          ]
        }
      ],
      "source": [
        "# Transformar la matriz de frecuencias (TF) en un arreglo de NumPy para realizar operaciones\n",
        "matriz_tf_numpy = df_frecuencias.values\n",
        "\n",
        "# Generar la matriz TF-IDF al multiplicar TF por los valores IDF\n",
        "matriz_tfidf = matriz_tf_numpy * valores_idf.values\n",
        "\n",
        "# Convertir la matriz TF-IDF en un DataFrame para una mejor representación\n",
        "df_tfidf = pd.DataFrame(matriz_tfidf, columns=df_idf['Palabra'])\n",
        "\n",
        "# Mostrar la matriz TF-IDF\n",
        "print(\"Matriz TF-IDF calculada:\")\n",
        "print(df_tfidf)\n"
      ]
    },
    {
      "cell_type": "code",
      "execution_count": 31,
      "id": "2eee6ddb-500a-4314-b1c3-5f3a4a8a1b15",
      "metadata": {
        "id": "2eee6ddb-500a-4314-b1c3-5f3a4a8a1b15"
      },
      "outputs": [],
      "source": [
        "stopwords = [\n",
        "    'la', 'las', 'el', 'los', 'de', 'y', 'en', 'a', 'que', 'con', 'por', 'para', 'como', 'más', 'es', 'se', 'esto', 'este',\n",
        "    'esta', 'de', 'un', 'una', 'lo', 'al', 'del', 'su', 'las', 'ser', 'está', 'están', 'o', 'pero', 'no', 'si', 'con', 'su',\n",
        "    'sobre', 'entre', 'este', 'también', 'esos', 'esas', 'esto', 'ese', 'por', 'ademas', 'cuando', 'ya', 'nos', 'tiene', 'nosotros',\n",
        "    'mi', 'tú', 'te', 'su', 'y', 'se', 'un', 'al', 'desde', 'hasta', 'durante', 'aunque', 'al', 'muy', 'hay', 'donde', 'esto',\n",
        "    'ser', 'una', 'los', 'mientras', 'cual', 'quien', 'que', 'sido', 'su', 'sobre', 'esto', 'ella', 'esto', 'yo', 'debería',\n",
        "    'su', 'mi', 'tiempo', 'tal', 'vez', 'tan', 'uno', 'los', 'hace', 'muchos', 'otros', 'estas', 'ellas', 'nosotros', 'ellas',\n",
        "    'algunas', 'algún', 'sólo', 'vez', 'que', 'más', 'del', 'menos', 'todo', 'al', 'siempre', 'por', 'también', 'en', 'todos'\n",
        "]"
      ]
    },
    {
      "cell_type": "code",
      "execution_count": 32,
      "id": "5913e817-af9d-4c58-94bb-5b65727d4b1d",
      "metadata": {
        "colab": {
          "base_uri": "https://localhost:8080/"
        },
        "id": "5913e817-af9d-4c58-94bb-5b65727d4b1d",
        "outputId": "018fc4de-38c1-400b-c684-822650b9be9d"
      },
      "outputs": [
        {
          "output_type": "stream",
          "name": "stdout",
          "text": [
            "Matriz TF-IDF filtrada (sin Stopwords):\n",
            "Palabra   acceder  accesibles    acceso  adopcion  adoptando     ahora  \\\n",
            "0        0.000000    0.000000  0.000000  0.000000   2.079442  0.000000   \n",
            "1        0.000000    0.000000  0.000000  0.000000   0.000000  2.079442   \n",
            "2        0.000000    0.000000  0.000000  0.000000   0.000000  0.000000   \n",
            "3        2.079442    0.000000  0.000000  0.000000   0.000000  0.000000   \n",
            "4        0.000000    0.000000  4.158883  0.000000   0.000000  0.000000   \n",
            "5        0.000000    0.000000  0.000000  0.000000   0.000000  0.000000   \n",
            "6        0.000000    0.000000  0.000000  2.079442   0.000000  0.000000   \n",
            "7        0.000000    2.079442  0.000000  0.000000   0.000000  0.000000   \n",
            "\n",
            "Palabra  alcanzado  algoritmos      anos  aplicaciones  ...  tratamientos  \\\n",
            "0         0.000000    2.079442  0.000000      0.000000  ...      0.000000   \n",
            "1         2.079442    0.000000  0.000000      0.000000  ...      0.000000   \n",
            "2         0.000000    0.000000  0.000000      0.000000  ...      0.000000   \n",
            "3         0.000000    0.000000  0.000000      0.000000  ...      0.000000   \n",
            "4         0.000000    0.000000  2.079442      0.000000  ...      0.000000   \n",
            "5         0.000000    0.000000  0.000000      0.000000  ...      0.000000   \n",
            "6         0.000000    0.000000  0.000000      2.079442  ...      0.000000   \n",
            "7         0.000000    0.000000  0.000000      0.000000  ...      2.079442   \n",
            "\n",
            "Palabra    tratan  ubicacion   usuario  utilizan     viaje      vida  \\\n",
            "0        0.000000   0.000000  0.000000  0.000000  0.000000  0.000000   \n",
            "1        0.000000   0.000000  0.000000  0.000000  0.000000  0.000000   \n",
            "2        0.000000   0.000000  2.079442  0.000000  0.000000  0.000000   \n",
            "3        0.000000   2.079442  0.000000  0.000000  0.000000  0.000000   \n",
            "4        0.000000   0.000000  0.000000  2.079442  0.000000  0.000000   \n",
            "5        0.000000   0.000000  0.000000  0.000000  2.079442  1.386294   \n",
            "6        0.000000   0.000000  0.000000  0.000000  0.000000  1.386294   \n",
            "7        2.079442   0.000000  0.000000  0.000000  0.000000  0.000000   \n",
            "\n",
            "Palabra  videojuegos  virtuales  visuales  \n",
            "0           0.000000   0.000000  0.000000  \n",
            "1           2.079442   2.079442  0.000000  \n",
            "2           0.000000   0.000000  0.000000  \n",
            "3           0.000000   0.000000  0.000000  \n",
            "4           0.000000   0.000000  2.079442  \n",
            "5           0.000000   0.000000  0.000000  \n",
            "6           0.000000   0.000000  0.000000  \n",
            "7           0.000000   0.000000  0.000000  \n",
            "\n",
            "[8 rows x 198 columns]\n"
          ]
        }
      ],
      "source": [
        "# Seleccionar columnas de la matriz TF-IDF excluyendo las stopwords en español\n",
        "columnas_relevantes = [palabra for palabra in df_tfidf.columns if palabra not in stopwords]\n",
        "\n",
        "# Crear un nuevo DataFrame TF-IDF sin las stopwords\n",
        "df_tfidf_filtrado = df_tfidf[columnas_relevantes]\n",
        "\n",
        "# Mostrar la nueva matriz TF-IDF sin las stopwords\n",
        "print(\"Matriz TF-IDF filtrada (sin Stopwords):\")\n",
        "print(df_tfidf_filtrado)\n"
      ]
    },
    {
      "cell_type": "markdown",
      "id": "f07ea87f-3f06-4700-8041-27c84c74ba64",
      "metadata": {
        "id": "f07ea87f-3f06-4700-8041-27c84c74ba64"
      },
      "source": [
        "**3. Procesamiento de las consultas**\n",
        "\n",
        "Preprocesamiento de las consultas de manera similar a los documentos."
      ]
    },
    {
      "cell_type": "code",
      "execution_count": 33,
      "id": "a7dcc755-ce29-4563-98a3-937a14782de0",
      "metadata": {
        "colab": {
          "base_uri": "https://localhost:8080/"
        },
        "id": "a7dcc755-ce29-4563-98a3-937a14782de0",
        "outputId": "ba48adff-a256-4cae-9934-5cc90a7d6f50"
      },
      "outputs": [
        {
          "output_type": "stream",
          "name": "stdout",
          "text": [
            "Consultas procesadas:\n",
            "Consulta 1: inteligencia artificial en medicina\n",
            "Consulta 2: beneficios de la educacion a distancia\n",
            "Consulta 3: realidad aumentada en videojuegos\n",
            "Consulta 4: desarrollo personal y habitos saludables\n",
            "Consulta 5: futuro del comercio electronico\n",
            "Consulta 6: tecnologias en cine moderno\n",
            "Consulta 7: competencias de esports\n",
            "Consulta 8: diagnostico con dispositivos portatiles\n",
            "Consulta 9: literatura de ciencia ficcion\n",
            "Consulta 10: plataformas de streaming\n"
          ]
        }
      ],
      "source": [
        "# Lista de consultas para procesar\n",
        "consultas = [\n",
        "    \"inteligencia artificial en medicina\",\n",
        "    \"beneficios de la educación a distancia\",\n",
        "    \"realidad aumentada en videojuegos\",\n",
        "    \"desarrollo personal y hábitos saludables\",\n",
        "    \"futuro del comercio electrónico\",\n",
        "    \"tecnologías en cine moderno\",\n",
        "    \"competencias de e-sports\",\n",
        "    \"diagnóstico con dispositivos portátiles\",\n",
        "    \"literatura de ciencia ficción\",\n",
        "    \"plataformas de streaming\"\n",
        "]\n",
        "\n",
        "# Procesar cada consulta mediante la función de normalización\n",
        "consultas_normalizadas = [limpiar_texto(consulta) for consulta in consultas]\n",
        "\n",
        "# Mostrar las consultas normalizadas\n",
        "print(\"Consultas procesadas:\")\n",
        "for indice, consulta in enumerate(consultas_normalizadas):\n",
        "    print(f\"Consulta {indice + 1}: {consulta}\")\n"
      ]
    },
    {
      "cell_type": "markdown",
      "id": "c88dcdfa-398f-4ec9-bdae-14f4196509d2",
      "metadata": {
        "id": "c88dcdfa-398f-4ec9-bdae-14f4196509d2"
      },
      "source": [
        "Representación de las consultas en el espacio vectorial TF-IDF."
      ]
    },
    {
      "cell_type": "code",
      "execution_count": 34,
      "id": "539f6819-6df6-4165-bc42-60af629a4b2f",
      "metadata": {
        "colab": {
          "base_uri": "https://localhost:8080/"
        },
        "id": "539f6819-6df6-4165-bc42-60af629a4b2f",
        "outputId": "5e3587b6-47f0-4fe3-8d4b-7385cf80e5fc"
      },
      "outputs": [
        {
          "output_type": "stream",
          "name": "stdout",
          "text": [
            "Matriz TF-IDF para las consultas procesadas:\n",
            "   artificial  aumentada  beneficios  ciencia     cine  comercio  \\\n",
            "0     0.57735    0.00000     0.00000  0.00000  0.00000   0.00000   \n",
            "1     0.00000    0.00000     0.57735  0.00000  0.00000   0.00000   \n",
            "2     0.00000    0.57735     0.00000  0.00000  0.00000   0.00000   \n",
            "3     0.00000    0.00000     0.00000  0.00000  0.00000   0.00000   \n",
            "4     0.00000    0.00000     0.00000  0.00000  0.00000   0.57735   \n",
            "5     0.00000    0.00000     0.00000  0.00000  0.57735   0.00000   \n",
            "6     0.00000    0.00000     0.00000  0.00000  0.00000   0.00000   \n",
            "7     0.00000    0.00000     0.00000  0.00000  0.00000   0.00000   \n",
            "8     0.00000    0.00000     0.00000  0.57735  0.00000   0.00000   \n",
            "9     0.00000    0.00000     0.00000  0.00000  0.00000   0.00000   \n",
            "\n",
            "   competencias  desarrollo  diagnostico  dispositivos  ...  medicina  \\\n",
            "0      0.000000         0.0      0.00000       0.00000  ...   0.57735   \n",
            "1      0.000000         0.0      0.00000       0.00000  ...   0.00000   \n",
            "2      0.000000         0.0      0.00000       0.00000  ...   0.00000   \n",
            "3      0.000000         0.5      0.00000       0.00000  ...   0.00000   \n",
            "4      0.000000         0.0      0.00000       0.00000  ...   0.00000   \n",
            "5      0.000000         0.0      0.00000       0.00000  ...   0.00000   \n",
            "6      0.707107         0.0      0.00000       0.00000  ...   0.00000   \n",
            "7      0.000000         0.0      0.57735       0.57735  ...   0.00000   \n",
            "8      0.000000         0.0      0.00000       0.00000  ...   0.00000   \n",
            "9      0.000000         0.0      0.00000       0.00000  ...   0.00000   \n",
            "\n",
            "   moderno  personal  plataformas  portatiles  realidad  saludables  \\\n",
            "0  0.00000       0.0     0.000000     0.00000   0.00000         0.0   \n",
            "1  0.00000       0.0     0.000000     0.00000   0.00000         0.0   \n",
            "2  0.00000       0.0     0.000000     0.00000   0.57735         0.0   \n",
            "3  0.00000       0.5     0.000000     0.00000   0.00000         0.5   \n",
            "4  0.00000       0.0     0.000000     0.00000   0.00000         0.0   \n",
            "5  0.57735       0.0     0.000000     0.00000   0.00000         0.0   \n",
            "6  0.00000       0.0     0.000000     0.00000   0.00000         0.0   \n",
            "7  0.00000       0.0     0.000000     0.57735   0.00000         0.0   \n",
            "8  0.00000       0.0     0.000000     0.00000   0.00000         0.0   \n",
            "9  0.00000       0.0     0.707107     0.00000   0.00000         0.0   \n",
            "\n",
            "   streaming  tecnologias  videojuegos  \n",
            "0   0.000000      0.00000      0.00000  \n",
            "1   0.000000      0.00000      0.00000  \n",
            "2   0.000000      0.00000      0.57735  \n",
            "3   0.000000      0.00000      0.00000  \n",
            "4   0.000000      0.00000      0.00000  \n",
            "5   0.000000      0.57735      0.00000  \n",
            "6   0.000000      0.00000      0.00000  \n",
            "7   0.000000      0.00000      0.00000  \n",
            "8   0.000000      0.00000      0.00000  \n",
            "9   0.707107      0.00000      0.00000  \n",
            "\n",
            "[10 rows x 29 columns]\n"
          ]
        }
      ],
      "source": [
        "# Procesar las consultas: normalización y tokenización\n",
        "consultas_normalizadas = [limpiar_texto(consulta) for consulta in consultas]\n",
        "\n",
        "# Tokenizar las consultas previamente normalizadas\n",
        "consultas_tokenizadas = [dividir_en_palabras(consulta) for consulta in consultas_normalizadas]\n",
        "\n",
        "# Filtrar las consultas para eliminar las stopwords\n",
        "consultas_filtradas = []\n",
        "for consulta in consultas_tokenizadas:\n",
        "    consulta_limpia = [palabra for palabra in consulta if palabra not in stopwords]\n",
        "    consultas_filtradas.append(consulta_limpia)\n",
        "\n",
        "# Reconstruir las consultas sin stopwords como texto para pasarlas al vectorizador\n",
        "consultas_preparadas = [' '.join(palabras) for palabras in consultas_filtradas]\n",
        "\n",
        "# Configurar el vectorizador TF-IDF\n",
        "vectorizador_tfidf = TfidfVectorizer()\n",
        "\n",
        "# Generar la matriz TF-IDF y convertirla a un DataFrame\n",
        "matriz_tfidf_consultas = vectorizador_tfidf.fit_transform(consultas_preparadas)\n",
        "df_tfidf_consultas = pd.DataFrame(\n",
        "    matriz_tfidf_consultas.toarray(),\n",
        "    columns=vectorizador_tfidf.get_feature_names_out()\n",
        ")\n",
        "\n",
        "# Mostrar la matriz TF-IDF generada para las consultas\n",
        "print(\"Matriz TF-IDF para las consultas procesadas:\")\n",
        "print(df_tfidf_consultas)\n"
      ]
    },
    {
      "cell_type": "markdown",
      "id": "ab43d8bf-27fb-44a6-b0c6-8cff763b1379",
      "metadata": {
        "id": "ab43d8bf-27fb-44a6-b0c6-8cff763b1379"
      },
      "source": [
        "**4. Cálculo de similitudes**\n",
        "\n",
        "Cálculo de la similitud entre cada consulta y los documentos del corpus utilizando la similitud del coseno."
      ]
    },
    {
      "cell_type": "code",
      "execution_count": 37,
      "id": "0a170ef8-c0f7-46fa-b02d-ae780002cd89",
      "metadata": {
        "colab": {
          "base_uri": "https://localhost:8080/"
        },
        "id": "0a170ef8-c0f7-46fa-b02d-ae780002cd89",
        "outputId": "786776e2-d549-480d-d5cd-e901ce224158"
      },
      "outputs": [
        {
          "output_type": "stream",
          "name": "stdout",
          "text": [
            "Matriz de Similitud del Coseno (Consultas vs Documentos):\n",
            "              Texto 1   Texto 2   Texto 3   Texto 4   Texto 5   Texto 6  \\\n",
            "Pregunta 1   0.131945  0.146161  0.000000  0.000000  0.000000  0.159074   \n",
            "Pregunta 2   0.000000  0.000000  0.000000  0.272234  0.000000  0.000000   \n",
            "Pregunta 3   0.000000  0.328565  0.000000  0.000000  0.073791  0.000000   \n",
            "Pregunta 4   0.000000  0.085397  0.000000  0.000000  0.000000  0.000000   \n",
            "Pregunta 5   0.000000  0.000000  0.148558  0.000000  0.000000  0.117100   \n",
            "Pregunta 6   0.000000  0.000000  0.000000  0.000000  0.172705  0.000000   \n",
            "Pregunta 7   0.000000  0.199871  0.000000  0.000000  0.000000  0.000000   \n",
            "Pregunta 8   0.000000  0.000000  0.000000  0.000000  0.000000  0.000000   \n",
            "Pregunta 9   0.000000  0.000000  0.000000  0.000000  0.000000  0.217529   \n",
            "Pregunta 10  0.000000  0.000000  0.104344  0.000000  0.225337  0.000000   \n",
            "\n",
            "              Texto 7   Texto 8  \n",
            "Pregunta 1   0.000000  0.278563  \n",
            "Pregunta 2   0.000000  0.000000  \n",
            "Pregunta 3   0.000000  0.000000  \n",
            "Pregunta 4   0.314415  0.000000  \n",
            "Pregunta 5   0.000000  0.107248  \n",
            "Pregunta 6   0.000000  0.000000  \n",
            "Pregunta 7   0.000000  0.000000  \n",
            "Pregunta 8   0.000000  0.199227  \n",
            "Pregunta 9   0.000000  0.000000  \n",
            "Pregunta 10  0.000000  0.000000  \n"
          ]
        }
      ],
      "source": [
        "# Configurar el vectorizador TF-IDF para procesar documentos y consultas\n",
        "vectorizador_tfidf = TfidfVectorizer(stop_words=stopwords)  # Reutilizamos el mismo vectorizador para ambos\n",
        "\n",
        "# Transformar el corpus de documentos en su representación TF-IDF\n",
        "matriz_tfidf_documentos = vectorizador_tfidf.fit_transform(documentos)\n",
        "\n",
        "# Aplicar la transformación TF-IDF a las consultas previamente preparadas\n",
        "matriz_tfidf_consultas = vectorizador_tfidf.transform(consultas_preparadas)\n",
        "\n",
        "# Calcular la similitud del coseno entre las consultas y los documentos\n",
        "similitud_consultas_documentos = cosine_similarity(matriz_tfidf_consultas, matriz_tfidf_documentos)\n",
        "\n",
        "# Convertir la matriz de similitudes en un DataFrame para facilitar la interpretación\n",
        "df_similitud = pd.DataFrame(\n",
        "    similitud_consultas_documentos,\n",
        "    columns=[f'Texto {i+1}' for i in range(len(documentos))],\n",
        "    index=[f'Pregunta {i+1}' for i in range(len(consultas))]\n",
        ")\n",
        "\n",
        "# Mostrar la matriz de similitud entre consultas y documentos\n",
        "print(\"Matriz de Similitud del Coseno (Consultas vs Documentos):\")\n",
        "print(df_similitud)\n"
      ]
    },
    {
      "cell_type": "markdown",
      "id": "9903cad5-935b-4e1c-b475-20d0a74e3c2f",
      "metadata": {
        "id": "9903cad5-935b-4e1c-b475-20d0a74e3c2f"
      },
      "source": [
        "**5. Ranking de documentos**\n",
        "\n",
        "Ordenar los documentos de mayor a menor similitud para cada consulta y mostrar los documentos más relevantes."
      ]
    },
    {
      "cell_type": "code",
      "execution_count": 38,
      "id": "740e6f4a-2365-420e-b3f0-058c4417fc16",
      "metadata": {
        "colab": {
          "base_uri": "https://localhost:8080/"
        },
        "id": "740e6f4a-2365-420e-b3f0-058c4417fc16",
        "outputId": "570f970d-a980-4cd5-afb5-40babc0bce89"
      },
      "outputs": [
        {
          "output_type": "stream",
          "name": "stdout",
          "text": [
            "\n",
            "Ranking de relevancia para la Pregunta 1 - (inteligencia artificial en medicina):\n",
            "**//** Texto 8   Similitud Coseno = 0.278563 **//**\n",
            "Documento 8: Los avances en la medicina están cambiando la forma en que se diagnostican y tratan las enfermedades. Desde la telemedicina hasta los dispositivos portátiles que monitorean la salud en tiempo real, la tecnología está permitiendo a los médicos ofrecer cuidados más personalizados. El futuro de la medicina es prometedor, con tratamientos más accesibles y eficaces.\n",
            "**//** Texto 6   Similitud Coseno = 0.159074 **//**\n",
            "Documento 6: La ciencia ficción es uno de los géneros literarios más populares, explorando temas como el viaje en el tiempo, la inteligencia artificial y la vida en otros planetas. Este género no solo entretiene, sino que también invita a reflexionar sobre el futuro de la humanidad y las implicaciones de los avances tecnológicos.\n",
            "**//** Texto 2   Similitud Coseno = 0.146161 **//**\n",
            "Documento 2: El desarrollo de videojuegos ha alcanzado un nuevo nivel con tecnologías como la realidad aumentada y la inteligencia artificial. Los jugadores ahora pueden interactuar en mundos virtuales más inmersivos. Este crecimiento también impulsa el mercado de los e-sports, donde las competencias profesionales atraen a millones de espectadores en todo el mundo.\n",
            "\n",
            "Ranking de relevancia para la Pregunta 2 - (beneficios de la educación a distancia):\n",
            "**//** Texto 4   Similitud Coseno = 0.272234 **//**\n",
            "Documento 4: La educación a distancia ha permitido a millones de estudiantes acceder a programas de calidad sin importar su ubicación. La flexibilidad es uno de los mayores beneficios, especialmente para aquellos con trabajos a tiempo completo. Aunque la falta de interacción presencial es un reto, las herramientas digitales siguen mejorando la experiencia educativa.\n",
            "**//** Texto 1   Similitud Coseno = 0.000000 **//**\n",
            "Documento 1: La inteligencia artificial continúa avanzando rápidamente, transformando sectores como la salud y las finanzas. Las empresas están adoptando algoritmos de aprendizaje automático para mejorar la eficiencia. Sin embargo, el desafío principal sigue siendo garantizar que las decisiones basadas en datos sean justas y no perpetúen sesgos. La ética es fundamental en este contexto.\n",
            "**//** Texto 2   Similitud Coseno = 0.000000 **//**\n",
            "Documento 2: El desarrollo de videojuegos ha alcanzado un nuevo nivel con tecnologías como la realidad aumentada y la inteligencia artificial. Los jugadores ahora pueden interactuar en mundos virtuales más inmersivos. Este crecimiento también impulsa el mercado de los e-sports, donde las competencias profesionales atraen a millones de espectadores en todo el mundo.\n",
            "\n",
            "Ranking de relevancia para la Pregunta 3 - (realidad aumentada en videojuegos):\n",
            "**//** Texto 2   Similitud Coseno = 0.328565 **//**\n",
            "Documento 2: El desarrollo de videojuegos ha alcanzado un nuevo nivel con tecnologías como la realidad aumentada y la inteligencia artificial. Los jugadores ahora pueden interactuar en mundos virtuales más inmersivos. Este crecimiento también impulsa el mercado de los e-sports, donde las competencias profesionales atraen a millones de espectadores en todo el mundo.\n",
            "**//** Texto 5   Similitud Coseno = 0.073791 **//**\n",
            "Documento 5: El cine ha evolucionado con los años, incorporando efectos visuales cada vez más realistas. Las producciones cinematográficas utilizan tecnologías avanzadas para crear escenas que desafían la realidad. Además, el acceso a plataformas de streaming ha transformado cómo y cuándo el público consume contenido, democratizando el acceso a películas y series.\n",
            "**//** Texto 1   Similitud Coseno = 0.000000 **//**\n",
            "Documento 1: La inteligencia artificial continúa avanzando rápidamente, transformando sectores como la salud y las finanzas. Las empresas están adoptando algoritmos de aprendizaje automático para mejorar la eficiencia. Sin embargo, el desafío principal sigue siendo garantizar que las decisiones basadas en datos sean justas y no perpetúen sesgos. La ética es fundamental en este contexto.\n",
            "\n",
            "Ranking de relevancia para la Pregunta 4 - (desarrollo personal y hábitos saludables):\n",
            "**//** Texto 7   Similitud Coseno = 0.314415 **//**\n",
            "Documento 7: El desarrollo personal se ha convertido en una prioridad para muchas personas que buscan mejorar su calidad de vida. Desde la adopción de hábitos saludables hasta el aprendizaje de nuevas habilidades, el enfoque en el crecimiento individual ha llevado a un aumento en la demanda de libros, cursos y aplicaciones que promueven el bienestar integral.\n",
            "**//** Texto 2   Similitud Coseno = 0.085397 **//**\n",
            "Documento 2: El desarrollo de videojuegos ha alcanzado un nuevo nivel con tecnologías como la realidad aumentada y la inteligencia artificial. Los jugadores ahora pueden interactuar en mundos virtuales más inmersivos. Este crecimiento también impulsa el mercado de los e-sports, donde las competencias profesionales atraen a millones de espectadores en todo el mundo.\n",
            "**//** Texto 1   Similitud Coseno = 0.000000 **//**\n",
            "Documento 1: La inteligencia artificial continúa avanzando rápidamente, transformando sectores como la salud y las finanzas. Las empresas están adoptando algoritmos de aprendizaje automático para mejorar la eficiencia. Sin embargo, el desafío principal sigue siendo garantizar que las decisiones basadas en datos sean justas y no perpetúen sesgos. La ética es fundamental en este contexto.\n",
            "\n",
            "Ranking de relevancia para la Pregunta 5 - (futuro del comercio electrónico):\n",
            "**//** Texto 3   Similitud Coseno = 0.148558 **//**\n",
            "Documento 3: El comercio electrónico ha cambiado la forma en que compramos. Con la creciente demanda de compras en línea, las empresas están optimizando sus plataformas digitales para ofrecer mejores experiencias de usuario. Desde recomendaciones personalizadas hasta pagos rápidos, los avances en tecnología siguen facilitando las transacciones diarias de los consumidores.\n",
            "**//** Texto 6   Similitud Coseno = 0.117100 **//**\n",
            "Documento 6: La ciencia ficción es uno de los géneros literarios más populares, explorando temas como el viaje en el tiempo, la inteligencia artificial y la vida en otros planetas. Este género no solo entretiene, sino que también invita a reflexionar sobre el futuro de la humanidad y las implicaciones de los avances tecnológicos.\n",
            "**//** Texto 8   Similitud Coseno = 0.107248 **//**\n",
            "Documento 8: Los avances en la medicina están cambiando la forma en que se diagnostican y tratan las enfermedades. Desde la telemedicina hasta los dispositivos portátiles que monitorean la salud en tiempo real, la tecnología está permitiendo a los médicos ofrecer cuidados más personalizados. El futuro de la medicina es prometedor, con tratamientos más accesibles y eficaces.\n",
            "\n",
            "Ranking de relevancia para la Pregunta 6 - (tecnologías en cine moderno):\n",
            "**//** Texto 5   Similitud Coseno = 0.172705 **//**\n",
            "Documento 5: El cine ha evolucionado con los años, incorporando efectos visuales cada vez más realistas. Las producciones cinematográficas utilizan tecnologías avanzadas para crear escenas que desafían la realidad. Además, el acceso a plataformas de streaming ha transformado cómo y cuándo el público consume contenido, democratizando el acceso a películas y series.\n",
            "**//** Texto 1   Similitud Coseno = 0.000000 **//**\n",
            "Documento 1: La inteligencia artificial continúa avanzando rápidamente, transformando sectores como la salud y las finanzas. Las empresas están adoptando algoritmos de aprendizaje automático para mejorar la eficiencia. Sin embargo, el desafío principal sigue siendo garantizar que las decisiones basadas en datos sean justas y no perpetúen sesgos. La ética es fundamental en este contexto.\n",
            "**//** Texto 2   Similitud Coseno = 0.000000 **//**\n",
            "Documento 2: El desarrollo de videojuegos ha alcanzado un nuevo nivel con tecnologías como la realidad aumentada y la inteligencia artificial. Los jugadores ahora pueden interactuar en mundos virtuales más inmersivos. Este crecimiento también impulsa el mercado de los e-sports, donde las competencias profesionales atraen a millones de espectadores en todo el mundo.\n",
            "\n",
            "Ranking de relevancia para la Pregunta 7 - (competencias de e-sports):\n",
            "**//** Texto 2   Similitud Coseno = 0.199871 **//**\n",
            "Documento 2: El desarrollo de videojuegos ha alcanzado un nuevo nivel con tecnologías como la realidad aumentada y la inteligencia artificial. Los jugadores ahora pueden interactuar en mundos virtuales más inmersivos. Este crecimiento también impulsa el mercado de los e-sports, donde las competencias profesionales atraen a millones de espectadores en todo el mundo.\n",
            "**//** Texto 1   Similitud Coseno = 0.000000 **//**\n",
            "Documento 1: La inteligencia artificial continúa avanzando rápidamente, transformando sectores como la salud y las finanzas. Las empresas están adoptando algoritmos de aprendizaje automático para mejorar la eficiencia. Sin embargo, el desafío principal sigue siendo garantizar que las decisiones basadas en datos sean justas y no perpetúen sesgos. La ética es fundamental en este contexto.\n",
            "**//** Texto 3   Similitud Coseno = 0.000000 **//**\n",
            "Documento 3: El comercio electrónico ha cambiado la forma en que compramos. Con la creciente demanda de compras en línea, las empresas están optimizando sus plataformas digitales para ofrecer mejores experiencias de usuario. Desde recomendaciones personalizadas hasta pagos rápidos, los avances en tecnología siguen facilitando las transacciones diarias de los consumidores.\n",
            "\n",
            "Ranking de relevancia para la Pregunta 8 - (diagnóstico con dispositivos portátiles):\n",
            "**//** Texto 8   Similitud Coseno = 0.199227 **//**\n",
            "Documento 8: Los avances en la medicina están cambiando la forma en que se diagnostican y tratan las enfermedades. Desde la telemedicina hasta los dispositivos portátiles que monitorean la salud en tiempo real, la tecnología está permitiendo a los médicos ofrecer cuidados más personalizados. El futuro de la medicina es prometedor, con tratamientos más accesibles y eficaces.\n",
            "**//** Texto 1   Similitud Coseno = 0.000000 **//**\n",
            "Documento 1: La inteligencia artificial continúa avanzando rápidamente, transformando sectores como la salud y las finanzas. Las empresas están adoptando algoritmos de aprendizaje automático para mejorar la eficiencia. Sin embargo, el desafío principal sigue siendo garantizar que las decisiones basadas en datos sean justas y no perpetúen sesgos. La ética es fundamental en este contexto.\n",
            "**//** Texto 2   Similitud Coseno = 0.000000 **//**\n",
            "Documento 2: El desarrollo de videojuegos ha alcanzado un nuevo nivel con tecnologías como la realidad aumentada y la inteligencia artificial. Los jugadores ahora pueden interactuar en mundos virtuales más inmersivos. Este crecimiento también impulsa el mercado de los e-sports, donde las competencias profesionales atraen a millones de espectadores en todo el mundo.\n",
            "\n",
            "Ranking de relevancia para la Pregunta 9 - (literatura de ciencia ficción):\n",
            "**//** Texto 6   Similitud Coseno = 0.217529 **//**\n",
            "Documento 6: La ciencia ficción es uno de los géneros literarios más populares, explorando temas como el viaje en el tiempo, la inteligencia artificial y la vida en otros planetas. Este género no solo entretiene, sino que también invita a reflexionar sobre el futuro de la humanidad y las implicaciones de los avances tecnológicos.\n",
            "**//** Texto 1   Similitud Coseno = 0.000000 **//**\n",
            "Documento 1: La inteligencia artificial continúa avanzando rápidamente, transformando sectores como la salud y las finanzas. Las empresas están adoptando algoritmos de aprendizaje automático para mejorar la eficiencia. Sin embargo, el desafío principal sigue siendo garantizar que las decisiones basadas en datos sean justas y no perpetúen sesgos. La ética es fundamental en este contexto.\n",
            "**//** Texto 2   Similitud Coseno = 0.000000 **//**\n",
            "Documento 2: El desarrollo de videojuegos ha alcanzado un nuevo nivel con tecnologías como la realidad aumentada y la inteligencia artificial. Los jugadores ahora pueden interactuar en mundos virtuales más inmersivos. Este crecimiento también impulsa el mercado de los e-sports, donde las competencias profesionales atraen a millones de espectadores en todo el mundo.\n",
            "\n",
            "Ranking de relevancia para la Pregunta 10 - (plataformas de streaming):\n",
            "**//** Texto 5   Similitud Coseno = 0.225337 **//**\n",
            "Documento 5: El cine ha evolucionado con los años, incorporando efectos visuales cada vez más realistas. Las producciones cinematográficas utilizan tecnologías avanzadas para crear escenas que desafían la realidad. Además, el acceso a plataformas de streaming ha transformado cómo y cuándo el público consume contenido, democratizando el acceso a películas y series.\n",
            "**//** Texto 3   Similitud Coseno = 0.104344 **//**\n",
            "Documento 3: El comercio electrónico ha cambiado la forma en que compramos. Con la creciente demanda de compras en línea, las empresas están optimizando sus plataformas digitales para ofrecer mejores experiencias de usuario. Desde recomendaciones personalizadas hasta pagos rápidos, los avances en tecnología siguen facilitando las transacciones diarias de los consumidores.\n",
            "**//** Texto 1   Similitud Coseno = 0.000000 **//**\n",
            "Documento 1: La inteligencia artificial continúa avanzando rápidamente, transformando sectores como la salud y las finanzas. Las empresas están adoptando algoritmos de aprendizaje automático para mejorar la eficiencia. Sin embargo, el desafío principal sigue siendo garantizar que las decisiones basadas en datos sean justas y no perpetúen sesgos. La ética es fundamental en este contexto.\n"
          ]
        }
      ],
      "source": [
        "for indice_consulta, similitudes in df_similitud.iterrows():\n",
        "    numero_consulta = int(re.search(r'\\d+', indice_consulta).group())  # Extraer el número de la consulta\n",
        "\n",
        "    texto_consulta = consultas[numero_consulta - 1]  # Recuperar el texto original de la consulta\n",
        "\n",
        "    # Mostrar el ranking de documentos relacionados con cada consulta\n",
        "    print(f\"\\nRanking de relevancia para la Pregunta {numero_consulta} - ({texto_consulta}):\")\n",
        "\n",
        "    # Ordenar los documentos según su similitud (de mayor a menor)\n",
        "    ranking_relevancia = similitudes.sort_values(ascending=False)\n",
        "\n",
        "    # Seleccionar los 3 documentos más relevantes\n",
        "    top_relevantes = ranking_relevancia.head(3)\n",
        "    for indice_documento, puntuacion in top_relevantes.items():\n",
        "        # Mostrar el índice del documento y su puntuación de similitud\n",
        "        print(f\"**//** {indice_documento}   Similitud Coseno = {puntuacion:.6f} **//**\")\n",
        "\n",
        "        # Recuperar el texto del documento asociado\n",
        "        texto_documento = documentos[int(indice_documento.split()[-1]) - 1].strip()\n",
        "        print(f\"{texto_documento}\")\n"
      ]
    }
  ],
  "metadata": {
    "kernelspec": {
      "display_name": "Python 3 (ipykernel)",
      "language": "python",
      "name": "python3"
    },
    "language_info": {
      "codemirror_mode": {
        "name": "ipython",
        "version": 3
      },
      "file_extension": ".py",
      "mimetype": "text/x-python",
      "name": "python",
      "nbconvert_exporter": "python",
      "pygments_lexer": "ipython3",
      "version": "3.11.5"
    },
    "colab": {
      "provenance": []
    }
  },
  "nbformat": 4,
  "nbformat_minor": 5
}